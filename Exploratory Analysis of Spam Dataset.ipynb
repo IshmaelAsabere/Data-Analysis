{
 "cells": [
  {
   "cell_type": "markdown",
   "id": "35bcd791-07a5-41fb-a88b-17b959ecacc9",
   "metadata": {},
   "source": [
    "# Exploratory Analysis of Email Spam Dataset"
   ]
  },
  {
   "cell_type": "markdown",
   "id": "82d2693a-4102-48c8-8e52-03d8542bd52f",
   "metadata": {},
   "source": [
    "## Setting"
   ]
  },
  {
   "cell_type": "code",
   "execution_count": 2,
   "id": "da99f7d9-6353-40a1-a862-679331f12b41",
   "metadata": {},
   "outputs": [],
   "source": [
    "# Import relevant libraries\n",
    "# install.packages(\"openintro\")\n",
    "library(ggplot2)\n",
    "library(dplyr)\n",
    "library(openintro)\n",
    "\n",
    "options(scipen=999)"
   ]
  },
  {
   "cell_type": "code",
   "execution_count": 3,
   "id": "88243c95-25aa-4b0a-a32c-5cb578a65df9",
   "metadata": {},
   "outputs": [
    {
     "data": {
      "text/html": [
       "<table>\n",
       "<thead><tr><th scope=col>spam</th><th scope=col>to_multiple</th><th scope=col>from</th><th scope=col>cc</th><th scope=col>sent_email</th><th scope=col>time</th><th scope=col>image</th><th scope=col>attach</th><th scope=col>dollar</th><th scope=col>winner</th><th scope=col>...</th><th scope=col>viagra</th><th scope=col>password</th><th scope=col>num_char</th><th scope=col>line_breaks</th><th scope=col>format</th><th scope=col>re_subj</th><th scope=col>exclaim_subj</th><th scope=col>urgent_subj</th><th scope=col>exclaim_mess</th><th scope=col>number</th></tr></thead>\n",
       "<tbody>\n",
       "\t<tr><td>0                  </td><td>0                  </td><td>1                  </td><td>0                  </td><td>0                  </td><td>2012-01-01 06:16:41</td><td>0                  </td><td>0                  </td><td>0                  </td><td>no                 </td><td>...                </td><td>0                  </td><td>0                  </td><td>11.370             </td><td>202                </td><td>1                  </td><td>0                  </td><td>0                  </td><td>0                  </td><td> 0                 </td><td>big                </td></tr>\n",
       "\t<tr><td>0                  </td><td>0                  </td><td>1                  </td><td>0                  </td><td>0                  </td><td>2012-01-01 07:03:59</td><td>0                  </td><td>0                  </td><td>0                  </td><td>no                 </td><td>...                </td><td>0                  </td><td>0                  </td><td>10.504             </td><td>202                </td><td>1                  </td><td>0                  </td><td>0                  </td><td>0                  </td><td> 1                 </td><td>small              </td></tr>\n",
       "\t<tr><td>0                  </td><td>0                  </td><td>1                  </td><td>0                  </td><td>0                  </td><td>2012-01-01 16:00:32</td><td>0                  </td><td>0                  </td><td>4                  </td><td>no                 </td><td>...                </td><td>0                  </td><td>0                  </td><td> 7.773             </td><td>192                </td><td>1                  </td><td>0                  </td><td>0                  </td><td>0                  </td><td> 6                 </td><td>small              </td></tr>\n",
       "\t<tr><td>0                  </td><td>0                  </td><td>1                  </td><td>0                  </td><td>0                  </td><td>2012-01-01 09:09:49</td><td>0                  </td><td>0                  </td><td>0                  </td><td>no                 </td><td>...                </td><td>0                  </td><td>0                  </td><td>13.256             </td><td>255                </td><td>1                  </td><td>0                  </td><td>0                  </td><td>0                  </td><td>48                 </td><td>small              </td></tr>\n",
       "\t<tr><td>0                  </td><td>0                  </td><td>1                  </td><td>0                  </td><td>0                  </td><td>2012-01-01 10:00:01</td><td>0                  </td><td>0                  </td><td>0                  </td><td>no                 </td><td>...                </td><td>0                  </td><td>2                  </td><td> 1.231             </td><td> 29                </td><td>0                  </td><td>0                  </td><td>0                  </td><td>0                  </td><td> 1                 </td><td>none               </td></tr>\n",
       "\t<tr><td>0                  </td><td>0                  </td><td>1                  </td><td>0                  </td><td>0                  </td><td>2012-01-01 10:04:46</td><td>0                  </td><td>0                  </td><td>0                  </td><td>no                 </td><td>...                </td><td>0                  </td><td>2                  </td><td> 1.091             </td><td> 25                </td><td>0                  </td><td>0                  </td><td>0                  </td><td>0                  </td><td> 1                 </td><td>none               </td></tr>\n",
       "</tbody>\n",
       "</table>\n"
      ],
      "text/latex": [
       "\\begin{tabular}{r|lllllllllllllllllllll}\n",
       " spam & to\\_multiple & from & cc & sent\\_email & time & image & attach & dollar & winner & ... & viagra & password & num\\_char & line\\_breaks & format & re\\_subj & exclaim\\_subj & urgent\\_subj & exclaim\\_mess & number\\\\\n",
       "\\hline\n",
       "\t 0                   & 0                   & 1                   & 0                   & 0                   & 2012-01-01 06:16:41 & 0                   & 0                   & 0                   & no                  & ...                 & 0                   & 0                   & 11.370              & 202                 & 1                   & 0                   & 0                   & 0                   &  0                  & big                \\\\\n",
       "\t 0                   & 0                   & 1                   & 0                   & 0                   & 2012-01-01 07:03:59 & 0                   & 0                   & 0                   & no                  & ...                 & 0                   & 0                   & 10.504              & 202                 & 1                   & 0                   & 0                   & 0                   &  1                  & small              \\\\\n",
       "\t 0                   & 0                   & 1                   & 0                   & 0                   & 2012-01-01 16:00:32 & 0                   & 0                   & 4                   & no                  & ...                 & 0                   & 0                   &  7.773              & 192                 & 1                   & 0                   & 0                   & 0                   &  6                  & small              \\\\\n",
       "\t 0                   & 0                   & 1                   & 0                   & 0                   & 2012-01-01 09:09:49 & 0                   & 0                   & 0                   & no                  & ...                 & 0                   & 0                   & 13.256              & 255                 & 1                   & 0                   & 0                   & 0                   & 48                  & small              \\\\\n",
       "\t 0                   & 0                   & 1                   & 0                   & 0                   & 2012-01-01 10:00:01 & 0                   & 0                   & 0                   & no                  & ...                 & 0                   & 2                   &  1.231              &  29                 & 0                   & 0                   & 0                   & 0                   &  1                  & none               \\\\\n",
       "\t 0                   & 0                   & 1                   & 0                   & 0                   & 2012-01-01 10:04:46 & 0                   & 0                   & 0                   & no                  & ...                 & 0                   & 2                   &  1.091              &  25                 & 0                   & 0                   & 0                   & 0                   &  1                  & none               \\\\\n",
       "\\end{tabular}\n"
      ],
      "text/markdown": [
       "\n",
       "| spam | to_multiple | from | cc | sent_email | time | image | attach | dollar | winner | ... | viagra | password | num_char | line_breaks | format | re_subj | exclaim_subj | urgent_subj | exclaim_mess | number |\n",
       "|---|---|---|---|---|---|---|---|---|---|---|---|---|---|---|---|---|---|---|---|---|\n",
       "| 0                   | 0                   | 1                   | 0                   | 0                   | 2012-01-01 06:16:41 | 0                   | 0                   | 0                   | no                  | ...                 | 0                   | 0                   | 11.370              | 202                 | 1                   | 0                   | 0                   | 0                   |  0                  | big                 |\n",
       "| 0                   | 0                   | 1                   | 0                   | 0                   | 2012-01-01 07:03:59 | 0                   | 0                   | 0                   | no                  | ...                 | 0                   | 0                   | 10.504              | 202                 | 1                   | 0                   | 0                   | 0                   |  1                  | small               |\n",
       "| 0                   | 0                   | 1                   | 0                   | 0                   | 2012-01-01 16:00:32 | 0                   | 0                   | 4                   | no                  | ...                 | 0                   | 0                   |  7.773              | 192                 | 1                   | 0                   | 0                   | 0                   |  6                  | small               |\n",
       "| 0                   | 0                   | 1                   | 0                   | 0                   | 2012-01-01 09:09:49 | 0                   | 0                   | 0                   | no                  | ...                 | 0                   | 0                   | 13.256              | 255                 | 1                   | 0                   | 0                   | 0                   | 48                  | small               |\n",
       "| 0                   | 0                   | 1                   | 0                   | 0                   | 2012-01-01 10:00:01 | 0                   | 0                   | 0                   | no                  | ...                 | 0                   | 2                   |  1.231              |  29                 | 0                   | 0                   | 0                   | 0                   |  1                  | none                |\n",
       "| 0                   | 0                   | 1                   | 0                   | 0                   | 2012-01-01 10:04:46 | 0                   | 0                   | 0                   | no                  | ...                 | 0                   | 2                   |  1.091              |  25                 | 0                   | 0                   | 0                   | 0                   |  1                  | none                |\n",
       "\n"
      ],
      "text/plain": [
       "  spam to_multiple from cc sent_email time                image attach dollar\n",
       "1 0    0           1    0  0          2012-01-01 06:16:41 0     0      0     \n",
       "2 0    0           1    0  0          2012-01-01 07:03:59 0     0      0     \n",
       "3 0    0           1    0  0          2012-01-01 16:00:32 0     0      4     \n",
       "4 0    0           1    0  0          2012-01-01 09:09:49 0     0      0     \n",
       "5 0    0           1    0  0          2012-01-01 10:00:01 0     0      0     \n",
       "6 0    0           1    0  0          2012-01-01 10:04:46 0     0      0     \n",
       "  winner ... viagra password num_char line_breaks format re_subj exclaim_subj\n",
       "1 no     ... 0      0        11.370   202         1      0       0           \n",
       "2 no     ... 0      0        10.504   202         1      0       0           \n",
       "3 no     ... 0      0         7.773   192         1      0       0           \n",
       "4 no     ... 0      0        13.256   255         1      0       0           \n",
       "5 no     ... 0      2         1.231    29         0      0       0           \n",
       "6 no     ... 0      2         1.091    25         0      0       0           \n",
       "  urgent_subj exclaim_mess number\n",
       "1 0            0           big   \n",
       "2 0            1           small \n",
       "3 0            6           small \n",
       "4 0           48           small \n",
       "5 0            1           none  \n",
       "6 0            1           none  "
      ]
     },
     "metadata": {},
     "output_type": "display_data"
    }
   ],
   "source": [
    "# Preview the data\n",
    "head(email)\n"
   ]
  },
  {
   "cell_type": "code",
   "execution_count": 4,
   "id": "3f5ac8b3-756d-4e11-b573-ca1b06a5d182",
   "metadata": {},
   "outputs": [
    {
     "name": "stdout",
     "output_type": "stream",
     "text": [
      "tibble [3,921 x 21] (S3: tbl_df/tbl/data.frame)\n",
      " $ spam        : Factor w/ 2 levels \"0\",\"1\": 1 1 1 1 1 1 1 1 1 1 ...\n",
      " $ to_multiple : Factor w/ 2 levels \"0\",\"1\": 1 1 1 1 1 1 2 2 1 1 ...\n",
      " $ from        : Factor w/ 2 levels \"0\",\"1\": 2 2 2 2 2 2 2 2 2 2 ...\n",
      " $ cc          : int [1:3921] 0 0 0 0 0 0 0 1 0 0 ...\n",
      " $ sent_email  : Factor w/ 2 levels \"0\",\"1\": 1 1 1 1 1 1 2 2 1 1 ...\n",
      " $ time        : POSIXct[1:3921], format: \"2012-01-01 06:16:41\" \"2012-01-01 07:03:59\" ...\n",
      " $ image       : num [1:3921] 0 0 0 0 0 0 0 1 0 0 ...\n",
      " $ attach      : num [1:3921] 0 0 0 0 0 0 0 1 0 0 ...\n",
      " $ dollar      : num [1:3921] 0 0 4 0 0 0 0 0 0 0 ...\n",
      " $ winner      : Factor w/ 2 levels \"no\",\"yes\": 1 1 1 1 1 1 1 1 1 1 ...\n",
      " $ inherit     : num [1:3921] 0 0 1 0 0 0 0 0 0 0 ...\n",
      " $ viagra      : num [1:3921] 0 0 0 0 0 0 0 0 0 0 ...\n",
      " $ password    : num [1:3921] 0 0 0 0 2 2 0 0 0 0 ...\n",
      " $ num_char    : num [1:3921] 11.37 10.5 7.77 13.26 1.23 ...\n",
      " $ line_breaks : int [1:3921] 202 202 192 255 29 25 193 237 69 68 ...\n",
      " $ format      : Factor w/ 2 levels \"0\",\"1\": 2 2 2 2 1 1 2 2 1 2 ...\n",
      " $ re_subj     : Factor w/ 2 levels \"0\",\"1\": 1 1 1 1 1 1 1 1 1 1 ...\n",
      " $ exclaim_subj: num [1:3921] 0 0 0 0 0 0 0 0 0 0 ...\n",
      " $ urgent_subj : Factor w/ 2 levels \"0\",\"1\": 1 1 1 1 1 1 1 1 1 1 ...\n",
      " $ exclaim_mess: num [1:3921] 0 1 6 48 1 1 1 18 1 0 ...\n",
      " $ number      : Factor w/ 3 levels \"none\",\"small\",..: 3 2 2 2 1 1 3 2 2 2 ...\n"
     ]
    }
   ],
   "source": [
    "# Preview the structure of the data\n",
    "str(email)"
   ]
  },
  {
   "cell_type": "markdown",
   "id": "8317bccd-8c58-412c-af03-e18b529d2d85",
   "metadata": {},
   "source": [
    "## Visual Exploration"
   ]
  },
  {
   "cell_type": "markdown",
   "id": "8fa8b3d3-cbc5-4237-9a0f-412d0e2bcb77",
   "metadata": {},
   "source": [
    "**Visual exploration of num_char and message type**"
   ]
  },
  {
   "cell_type": "code",
   "execution_count": 17,
   "id": "f6e8ba6a-626f-4f7a-b9eb-f1d64db48f71",
   "metadata": {},
   "outputs": [
    {
     "name": "stderr",
     "output_type": "stream",
     "text": [
      "`stat_bin()` using `bins = 30`. Pick better value with `binwidth`.\n"
     ]
    },
    {
     "data": {
      "image/png": "[encoded data removed]",
      "text/plain": [
       "plot without title"
      ]
     },
     "metadata": {},
     "output_type": "display_data"
    }
   ],
   "source": [
    "# Histogram\n",
    "ggplot(email, aes(x = num_char)) +\n",
    "geom_histogram()"
   ]
  },
  {
   "cell_type": "code",
   "execution_count": 20,
   "id": "13e3bfe0-3a14-42e2-a95c-2f73e06ce903",
   "metadata": {},
   "outputs": [
    {
     "name": "stderr",
     "output_type": "stream",
     "text": [
      "`stat_bin()` using `bins = 30`. Pick better value with `binwidth`.\n"
     ]
    },
    {
     "data": {
      "image/png": "[encoded data removed]",
      "text/plain": [
       "plot without title"
      ]
     },
     "metadata": {},
     "output_type": "display_data"
    }
   ],
   "source": [
    "# Histograms with facets\n",
    "ggplot(email, aes(x = num_char)) +\n",
    "geom_histogram() +\n",
    "facet_wrap(~spam)"
   ]
  },
  {
   "cell_type": "code",
   "execution_count": 21,
   "id": "40e16ed1-a3db-4bd5-943d-8ab41f2e20e3",
   "metadata": {},
   "outputs": [
    {
     "data": {
      "image/png": "[encoded data removed]",
      "text/plain": [
       "plot without title"
      ]
     },
     "metadata": {},
     "output_type": "display_data"
    }
   ],
   "source": [
    "# Box Plot\n",
    "ggplot(email, aes(x = spam, y = num_char)) +\n",
    "geom_boxplot()"
   ]
  },
  {
   "cell_type": "code",
   "execution_count": 22,
   "id": "f76c1288-04de-4ea2-b8a1-b82f7f2e0a70",
   "metadata": {},
   "outputs": [
    {
     "data": {
      "image/png": "[encoded data removed]",
      "text/plain": [
       "plot without title"
      ]
     },
     "metadata": {},
     "output_type": "display_data"
    }
   ],
   "source": [
    "# To get a single box plot\n",
    "ggplot(email, aes(x = 1, y = num_char)) +\n",
    "geom_boxplot()"
   ]
  },
  {
   "cell_type": "code",
   "execution_count": 23,
   "id": "00b85ad0-a6ae-4705-a6ba-b644f1a3af47",
   "metadata": {},
   "outputs": [
    {
     "data": {
      "image/png": "[encoded data removed]",
      "text/plain": [
       "plot without title"
      ]
     },
     "metadata": {},
     "output_type": "display_data"
    }
   ],
   "source": [
    "# Density Plot\n",
    "ggplot(email, aes(x = num_char)) +\n",
    "geom_density()"
   ]
  },
  {
   "cell_type": "code",
   "execution_count": 24,
   "id": "d9f91752-7b5c-40f1-9f87-738d5a8a4111",
   "metadata": {},
   "outputs": [
    {
     "data": {
      "image/png": "[encoded data removed]",
      "text/plain": [
       "plot without title"
      ]
     },
     "metadata": {},
     "output_type": "display_data"
    }
   ],
   "source": [
    "# Desnsity plot\n",
    "ggplot(email, aes(x = num_char, fill = spam)) +\n",
    "geom_density(alpha = .3)"
   ]
  },
  {
   "cell_type": "markdown",
   "id": "bcf4e7e3-0af8-4472-abd1-676c09449308",
   "metadata": {},
   "source": [
    "## Checking for Association between variables"
   ]
  },
  {
   "cell_type": "markdown",
   "id": "c285691e-34ed-49d9-bc51-3eed046c1377",
   "metadata": {},
   "source": [
    "**Is there an association between spam and the length of an email**"
   ]
  },
  {
   "cell_type": "code",
   "execution_count": 13,
   "id": "50275707-2257-4658-b1d1-f0c946b70f90",
   "metadata": {},
   "outputs": [
    {
     "data": {
      "text/html": [
       "<table>\n",
       "<thead><tr><th scope=col>spam</th><th scope=col>n()</th><th scope=col>mean(num_char)</th><th scope=col>sd(num_char)</th><th scope=col>median(num_char)</th><th scope=col>IQR(num_char)</th></tr></thead>\n",
       "<tbody>\n",
       "\t<tr><td>0        </td><td>3554     </td><td>11.250517</td><td>14.51076 </td><td>6.831    </td><td>13.58225 </td></tr>\n",
       "\t<tr><td>1        </td><td> 367     </td><td> 5.439204</td><td>14.92010 </td><td>1.046    </td><td> 2.81800 </td></tr>\n",
       "</tbody>\n",
       "</table>\n"
      ],
      "text/latex": [
       "\\begin{tabular}{r|llllll}\n",
       " spam & n() & mean(num\\_char) & sd(num\\_char) & median(num\\_char) & IQR(num\\_char)\\\\\n",
       "\\hline\n",
       "\t 0         & 3554      & 11.250517 & 14.51076  & 6.831     & 13.58225 \\\\\n",
       "\t 1         &  367      &  5.439204 & 14.92010  & 1.046     &  2.81800 \\\\\n",
       "\\end{tabular}\n"
      ],
      "text/markdown": [
       "\n",
       "| spam | n() | mean(num_char) | sd(num_char) | median(num_char) | IQR(num_char) |\n",
       "|---|---|---|---|---|---|\n",
       "| 0         | 3554      | 11.250517 | 14.51076  | 6.831     | 13.58225  |\n",
       "| 1         |  367      |  5.439204 | 14.92010  | 1.046     |  2.81800  |\n",
       "\n"
      ],
      "text/plain": [
       "  spam n()  mean(num_char) sd(num_char) median(num_char) IQR(num_char)\n",
       "1 0    3554 11.250517      14.51076     6.831            13.58225     \n",
       "2 1     367  5.439204      14.92010     1.046             2.81800     "
      ]
     },
     "metadata": {},
     "output_type": "display_data"
    }
   ],
   "source": [
    "# Computing an appropriate measures of the center and spread of 'num_char' for both spam and not-spam using group_by() and summarize()\n",
    "email %>%\n",
    "  group_by(spam) %>%\n",
    "  summarize(n(), mean(num_char), sd(num_char), median(num_char), IQR(num_char))"
   ]
  },
  {
   "cell_type": "code",
   "execution_count": 11,
   "id": "4729d7f7-aabe-4899-8c1a-a72a332a9dcf",
   "metadata": {},
   "outputs": [
    {
     "data": {
      "image/png": "[encoded data removed]",
      "text/plain": [
       "plot without title"
      ]
     },
     "metadata": {},
     "output_type": "display_data"
    }
   ],
   "source": [
    "# Constructing a side-by-side box plots to visualize the association between the same two variables.\n",
    "email %>%\n",
    "  mutate(log_num_char = log(num_char)) %>%\n",
    "  ggplot(aes(x = spam, y = log_num_char)) +\n",
    "  geom_boxplot()"
   ]
  },
  {
   "cell_type": "markdown",
   "id": "a215838a-8bea-4f67-9e9d-483e244743f9",
   "metadata": {},
   "source": [
    "- This shows that, the median length of not-spam emails is greater than that of spam emails.\n",
    "\n",
    "- Thus a typical spam message is shorter than non-spam message"
   ]
  },
  {
   "cell_type": "markdown",
   "id": "667e80c6-039f-4dfc-8908-200a3b789d1e",
   "metadata": {},
   "source": [
    "**Exclamation marks as an obvious indicator of spam**"
   ]
  },
  {
   "cell_type": "code",
   "execution_count": 36,
   "id": "d86d5a91-319b-43e2-85c8-9d4b4c58db6e",
   "metadata": {},
   "outputs": [
    {
     "name": "stderr",
     "output_type": "stream",
     "text": [
      "`stat_bin()` using `bins = 30`. Pick better value with `binwidth`.\n"
     ]
    },
    {
     "data": {
      "image/png": "[encoded data removed]",
      "text/plain": [
       "plot without title"
      ]
     },
     "metadata": {},
     "output_type": "display_data"
    }
   ],
   "source": [
    "# Get a sense of the distribution of exclaim_mess - Histogram\n",
    "ggplot(email, aes(x = exclaim_mess)) +\n",
    "geom_histogram()"
   ]
  },
  {
   "cell_type": "code",
   "execution_count": 15,
   "id": "ad1598d8-0efc-4b1f-a449-178a1beb53a5",
   "metadata": {},
   "outputs": [
    {
     "data": {
      "text/html": [
       "<table>\n",
       "<thead><tr><th scope=col>spam</th><th scope=col>median(exclaim_mess)</th><th scope=col>IQR(exclaim_mess)</th></tr></thead>\n",
       "<tbody>\n",
       "\t<tr><td>0</td><td>1</td><td>5</td></tr>\n",
       "\t<tr><td>1</td><td>0</td><td>1</td></tr>\n",
       "</tbody>\n",
       "</table>\n"
      ],
      "text/latex": [
       "\\begin{tabular}{r|lll}\n",
       " spam & median(exclaim\\_mess) & IQR(exclaim\\_mess)\\\\\n",
       "\\hline\n",
       "\t 0 & 1 & 5\\\\\n",
       "\t 1 & 0 & 1\\\\\n",
       "\\end{tabular}\n"
      ],
      "text/markdown": [
       "\n",
       "| spam | median(exclaim_mess) | IQR(exclaim_mess) |\n",
       "|---|---|---|\n",
       "| 0 | 1 | 5 |\n",
       "| 1 | 0 | 1 |\n",
       "\n"
      ],
      "text/plain": [
       "  spam median(exclaim_mess) IQR(exclaim_mess)\n",
       "1 0    1                    5                \n",
       "2 1    0                    1                "
      ]
     },
     "metadata": {},
     "output_type": "display_data"
    }
   ],
   "source": [
    "# Compute center and spread for exclaim_mess by spam\n",
    "email %>%\n",
    "  group_by(spam) %>%\n",
    "  summarize(median(exclaim_mess), IQR(exclaim_mess))"
   ]
  },
  {
   "cell_type": "code",
   "execution_count": 16,
   "id": "9044daf4-d1dc-4f98-99ed-3c5e8c2643a5",
   "metadata": {},
   "outputs": [
    {
     "name": "stderr",
     "output_type": "stream",
     "text": [
      "`stat_bin()` using `bins = 30`. Pick better value with `binwidth`.\n"
     ]
    },
    {
     "data": {
      "image/png": "[encoded data removed]",
      "text/plain": [
       "plot without title"
      ]
     },
     "metadata": {},
     "output_type": "display_data"
    }
   ],
   "source": [
    "# Create plot for spam and exclaim_mess\n",
    "# log(0) is -Inf in R, which isn't a very useful value! You can get around this by adding a small number (like 0.01) to the quantity inside the log() function\n",
    "\n",
    "email %>%\n",
    "mutate(log_exclaim_mess = log(0.01+ exclaim_mess)) %>%\n",
    "ggplot(aes(x = log_exclaim_mess)) +\n",
    "geom_histogram() +\n",
    "facet_wrap(~ spam)"
   ]
  },
  {
   "cell_type": "markdown",
   "id": "52ec4484-1ba5-41a5-953e-e4adaab0f579",
   "metadata": {},
   "source": [
    "We see that, \n",
    "- Even after a transformation, the distribution of exclaim_mess in both classes of email is right-skewed.\n",
    "- The typical number of exclamations in the not-spam group appears to be slightly higher than in the spam group.\n",
    "- The most common value of exclaim_mess in both classes of email is zero (a log(exclaim_mess) of -4.6 after adding .01)."
   ]
  },
  {
   "cell_type": "markdown",
   "id": "a6efd47b-bcda-4be3-9195-5497163222c6",
   "metadata": {},
   "source": [
    "**Cases where exclaim_mess in both classes of email is zero (a log(exclaim_mess) of -4.6 after adding .01)**\n",
    "\n",
    "- Analyze the zeros and the non-zeros seperately\n",
    "- Treat as two level categorical variables: zeros and non-zeros "
   ]
  },
  {
   "cell_type": "code",
   "execution_count": 29,
   "id": "07c7e881-f2b4-4739-a79c-01fb01830ae4",
   "metadata": {},
   "outputs": [
    {
     "data": {
      "text/html": [
       "<table>\n",
       "<thead><tr><th scope=col>spam</th><th scope=col>to_multiple</th><th scope=col>from</th><th scope=col>cc</th><th scope=col>sent_email</th><th scope=col>time</th><th scope=col>image</th><th scope=col>attach</th><th scope=col>dollar</th><th scope=col>winner</th><th scope=col>...</th><th scope=col>viagra</th><th scope=col>password</th><th scope=col>num_char</th><th scope=col>line_breaks</th><th scope=col>format</th><th scope=col>re_subj</th><th scope=col>exclaim_subj</th><th scope=col>urgent_subj</th><th scope=col>exclaim_mess</th><th scope=col>number</th></tr></thead>\n",
       "<tbody>\n",
       "\t<tr><td>0                  </td><td>0                  </td><td>1                  </td><td>0                  </td><td>0                  </td><td>2012-01-01 06:16:41</td><td>0                  </td><td>0                  </td><td>0                  </td><td>no                 </td><td>...                </td><td>0                  </td><td>0                  </td><td>11.370             </td><td>202                </td><td>1                  </td><td>0                  </td><td>0                  </td><td>0                  </td><td> 0                 </td><td>big                </td></tr>\n",
       "\t<tr><td>0                  </td><td>0                  </td><td>1                  </td><td>0                  </td><td>0                  </td><td>2012-01-01 07:03:59</td><td>0                  </td><td>0                  </td><td>0                  </td><td>no                 </td><td>...                </td><td>0                  </td><td>0                  </td><td>10.504             </td><td>202                </td><td>1                  </td><td>0                  </td><td>0                  </td><td>0                  </td><td> 1                 </td><td>small              </td></tr>\n",
       "\t<tr><td>0                  </td><td>0                  </td><td>1                  </td><td>0                  </td><td>0                  </td><td>2012-01-01 16:00:32</td><td>0                  </td><td>0                  </td><td>4                  </td><td>no                 </td><td>...                </td><td>0                  </td><td>0                  </td><td> 7.773             </td><td>192                </td><td>1                  </td><td>0                  </td><td>0                  </td><td>0                  </td><td> 6                 </td><td>small              </td></tr>\n",
       "\t<tr><td>0                  </td><td>0                  </td><td>1                  </td><td>0                  </td><td>0                  </td><td>2012-01-01 09:09:49</td><td>0                  </td><td>0                  </td><td>0                  </td><td>no                 </td><td>...                </td><td>0                  </td><td>0                  </td><td>13.256             </td><td>255                </td><td>1                  </td><td>0                  </td><td>0                  </td><td>0                  </td><td>48                 </td><td>small              </td></tr>\n",
       "\t<tr><td>0                  </td><td>0                  </td><td>1                  </td><td>0                  </td><td>0                  </td><td>2012-01-01 10:00:01</td><td>0                  </td><td>0                  </td><td>0                  </td><td>no                 </td><td>...                </td><td>0                  </td><td>2                  </td><td> 1.231             </td><td> 29                </td><td>0                  </td><td>0                  </td><td>0                  </td><td>0                  </td><td> 1                 </td><td>none               </td></tr>\n",
       "\t<tr><td>0                  </td><td>0                  </td><td>1                  </td><td>0                  </td><td>0                  </td><td>2012-01-01 10:04:46</td><td>0                  </td><td>0                  </td><td>0                  </td><td>no                 </td><td>...                </td><td>0                  </td><td>2                  </td><td> 1.091             </td><td> 25                </td><td>0                  </td><td>0                  </td><td>0                  </td><td>0                  </td><td> 1                 </td><td>none               </td></tr>\n",
       "</tbody>\n",
       "</table>\n"
      ],
      "text/latex": [
       "\\begin{tabular}{r|lllllllllllllllllllll}\n",
       " spam & to\\_multiple & from & cc & sent\\_email & time & image & attach & dollar & winner & ... & viagra & password & num\\_char & line\\_breaks & format & re\\_subj & exclaim\\_subj & urgent\\_subj & exclaim\\_mess & number\\\\\n",
       "\\hline\n",
       "\t 0                   & 0                   & 1                   & 0                   & 0                   & 2012-01-01 06:16:41 & 0                   & 0                   & 0                   & no                  & ...                 & 0                   & 0                   & 11.370              & 202                 & 1                   & 0                   & 0                   & 0                   &  0                  & big                \\\\\n",
       "\t 0                   & 0                   & 1                   & 0                   & 0                   & 2012-01-01 07:03:59 & 0                   & 0                   & 0                   & no                  & ...                 & 0                   & 0                   & 10.504              & 202                 & 1                   & 0                   & 0                   & 0                   &  1                  & small              \\\\\n",
       "\t 0                   & 0                   & 1                   & 0                   & 0                   & 2012-01-01 16:00:32 & 0                   & 0                   & 4                   & no                  & ...                 & 0                   & 0                   &  7.773              & 192                 & 1                   & 0                   & 0                   & 0                   &  6                  & small              \\\\\n",
       "\t 0                   & 0                   & 1                   & 0                   & 0                   & 2012-01-01 09:09:49 & 0                   & 0                   & 0                   & no                  & ...                 & 0                   & 0                   & 13.256              & 255                 & 1                   & 0                   & 0                   & 0                   & 48                  & small              \\\\\n",
       "\t 0                   & 0                   & 1                   & 0                   & 0                   & 2012-01-01 10:00:01 & 0                   & 0                   & 0                   & no                  & ...                 & 0                   & 2                   &  1.231              &  29                 & 0                   & 0                   & 0                   & 0                   &  1                  & none               \\\\\n",
       "\t 0                   & 0                   & 1                   & 0                   & 0                   & 2012-01-01 10:04:46 & 0                   & 0                   & 0                   & no                  & ...                 & 0                   & 2                   &  1.091              &  25                 & 0                   & 0                   & 0                   & 0                   &  1                  & none               \\\\\n",
       "\\end{tabular}\n"
      ],
      "text/markdown": [
       "\n",
       "| spam | to_multiple | from | cc | sent_email | time | image | attach | dollar | winner | ... | viagra | password | num_char | line_breaks | format | re_subj | exclaim_subj | urgent_subj | exclaim_mess | number |\n",
       "|---|---|---|---|---|---|---|---|---|---|---|---|---|---|---|---|---|---|---|---|---|\n",
       "| 0                   | 0                   | 1                   | 0                   | 0                   | 2012-01-01 06:16:41 | 0                   | 0                   | 0                   | no                  | ...                 | 0                   | 0                   | 11.370              | 202                 | 1                   | 0                   | 0                   | 0                   |  0                  | big                 |\n",
       "| 0                   | 0                   | 1                   | 0                   | 0                   | 2012-01-01 07:03:59 | 0                   | 0                   | 0                   | no                  | ...                 | 0                   | 0                   | 10.504              | 202                 | 1                   | 0                   | 0                   | 0                   |  1                  | small               |\n",
       "| 0                   | 0                   | 1                   | 0                   | 0                   | 2012-01-01 16:00:32 | 0                   | 0                   | 4                   | no                  | ...                 | 0                   | 0                   |  7.773              | 192                 | 1                   | 0                   | 0                   | 0                   |  6                  | small               |\n",
       "| 0                   | 0                   | 1                   | 0                   | 0                   | 2012-01-01 09:09:49 | 0                   | 0                   | 0                   | no                  | ...                 | 0                   | 0                   | 13.256              | 255                 | 1                   | 0                   | 0                   | 0                   | 48                  | small               |\n",
       "| 0                   | 0                   | 1                   | 0                   | 0                   | 2012-01-01 10:00:01 | 0                   | 0                   | 0                   | no                  | ...                 | 0                   | 2                   |  1.231              |  29                 | 0                   | 0                   | 0                   | 0                   |  1                  | none                |\n",
       "| 0                   | 0                   | 1                   | 0                   | 0                   | 2012-01-01 10:04:46 | 0                   | 0                   | 0                   | no                  | ...                 | 0                   | 2                   |  1.091              |  25                 | 0                   | 0                   | 0                   | 0                   |  1                  | none                |\n",
       "\n"
      ],
      "text/plain": [
       "  spam to_multiple from cc sent_email time                image attach dollar\n",
       "1 0    0           1    0  0          2012-01-01 06:16:41 0     0      0     \n",
       "2 0    0           1    0  0          2012-01-01 07:03:59 0     0      0     \n",
       "3 0    0           1    0  0          2012-01-01 16:00:32 0     0      4     \n",
       "4 0    0           1    0  0          2012-01-01 09:09:49 0     0      0     \n",
       "5 0    0           1    0  0          2012-01-01 10:00:01 0     0      0     \n",
       "6 0    0           1    0  0          2012-01-01 10:04:46 0     0      0     \n",
       "  winner ... viagra password num_char line_breaks format re_subj exclaim_subj\n",
       "1 no     ... 0      0        11.370   202         1      0       0           \n",
       "2 no     ... 0      0        10.504   202         1      0       0           \n",
       "3 no     ... 0      0         7.773   192         1      0       0           \n",
       "4 no     ... 0      0        13.256   255         1      0       0           \n",
       "5 no     ... 0      2         1.231    29         0      0       0           \n",
       "6 no     ... 0      2         1.091    25         0      0       0           \n",
       "  urgent_subj exclaim_mess number\n",
       "1 0            0           big   \n",
       "2 0            1           small \n",
       "3 0            6           small \n",
       "4 0           48           small \n",
       "5 0            1           none  \n",
       "6 0            1           none  "
      ]
     },
     "metadata": {},
     "output_type": "display_data"
    },
    {
     "name": "stdout",
     "output_type": "stream",
     "text": [
      "tibble [3,921 x 21] (S3: tbl_df/tbl/data.frame)\n",
      " $ spam        : Factor w/ 2 levels \"0\",\"1\": 1 1 1 1 1 1 1 1 1 1 ...\n",
      " $ to_multiple : Factor w/ 2 levels \"0\",\"1\": 1 1 1 1 1 1 2 2 1 1 ...\n",
      " $ from        : Factor w/ 2 levels \"0\",\"1\": 2 2 2 2 2 2 2 2 2 2 ...\n",
      " $ cc          : int [1:3921] 0 0 0 0 0 0 0 1 0 0 ...\n",
      " $ sent_email  : Factor w/ 2 levels \"0\",\"1\": 1 1 1 1 1 1 2 2 1 1 ...\n",
      " $ time        : POSIXct[1:3921], format: \"2012-01-01 06:16:41\" \"2012-01-01 07:03:59\" ...\n",
      " $ image       : num [1:3921] 0 0 0 0 0 0 0 1 0 0 ...\n",
      " $ attach      : num [1:3921] 0 0 0 0 0 0 0 1 0 0 ...\n",
      " $ dollar      : num [1:3921] 0 0 4 0 0 0 0 0 0 0 ...\n",
      " $ winner      : Factor w/ 2 levels \"no\",\"yes\": 1 1 1 1 1 1 1 1 1 1 ...\n",
      " $ inherit     : num [1:3921] 0 0 1 0 0 0 0 0 0 0 ...\n",
      " $ viagra      : num [1:3921] 0 0 0 0 0 0 0 0 0 0 ...\n",
      " $ password    : num [1:3921] 0 0 0 0 2 2 0 0 0 0 ...\n",
      " $ num_char    : num [1:3921] 11.37 10.5 7.77 13.26 1.23 ...\n",
      " $ line_breaks : int [1:3921] 202 202 192 255 29 25 193 237 69 68 ...\n",
      " $ format      : Factor w/ 2 levels \"0\",\"1\": 2 2 2 2 1 1 2 2 1 2 ...\n",
      " $ re_subj     : Factor w/ 2 levels \"0\",\"1\": 1 1 1 1 1 1 1 1 1 1 ...\n",
      " $ exclaim_subj: num [1:3921] 0 0 0 0 0 0 0 0 0 0 ...\n",
      " $ urgent_subj : Factor w/ 2 levels \"0\",\"1\": 1 1 1 1 1 1 1 1 1 1 ...\n",
      " $ exclaim_mess: num [1:3921] 0 1 6 48 1 1 1 18 1 0 ...\n",
      " $ number      : Factor w/ 3 levels \"none\",\"small\",..: 3 2 2 2 1 1 3 2 2 2 ...\n"
     ]
    },
    {
     "data": {
      "image/png": "[encoded data removed]",
      "text/plain": [
       "plot without title"
      ]
     },
     "metadata": {},
     "output_type": "display_data"
    }
   ],
   "source": [
    "# \n",
    "email %>%\n",
    "mutate(zero = exclaim_mess == 0) %>%\n",
    "ggplot(aes(x = zero)) +\n",
    "geom_bar() +\n",
    "facet_wrap(~spam)\n",
    "\n",
    "head(email)\n",
    "str(email)"
   ]
  },
  {
   "cell_type": "code",
   "execution_count": 26,
   "id": "6e0f8359-bf4e-4911-b058-b1dd5439aba4",
   "metadata": {},
   "outputs": [
    {
     "data": {
      "image/png": "[encoded data removed]",
      "text/plain": [
       "plot without title"
      ]
     },
     "metadata": {},
     "output_type": "display_data"
    }
   ],
   "source": [
    "# Using a stacked barchart\n",
    "email %>%\n",
    "    mutate(zero = exclaim_mess == 0) %>%\n",
    "    ggplot(aes(x = zero, fill = spam)) +\n",
    "    geom_bar()"
   ]
  },
  {
   "cell_type": "code",
   "execution_count": 27,
   "id": "091f48ed-7014-4ae8-8ba3-a7de0221dbad",
   "metadata": {},
   "outputs": [
    {
     "data": {
      "image/png": "[encoded data removed]",
      "text/plain": [
       "plot without title"
      ]
     },
     "metadata": {},
     "output_type": "display_data"
    }
   ],
   "source": [
    "# Proportion Stacked barchart\n",
    "email %>%\n",
    "    mutate(zero = exclaim_mess == 0) %>%\n",
    "    ggplot(aes(x = zero, fill = spam)) +\n",
    "    geom_bar(position = \"fill\")"
   ]
  },
  {
   "cell_type": "markdown",
   "id": "581577a7-2dc3-4098-8100-9a37ee728c55",
   "metadata": {},
   "source": [
    "### Association between email with images and whether or not it is a spam or not"
   ]
  },
  {
   "cell_type": "code",
   "execution_count": 31,
   "id": "99a0d066-2c62-44a4-88e1-2947ea6fe32a",
   "metadata": {},
   "outputs": [
    {
     "data": {
      "text/plain": [
       "\n",
       "   0    1    2    3    4    5    9   20 \n",
       "3811   76   17   11    2    2    1    1 "
      ]
     },
     "metadata": {},
     "output_type": "display_data"
    }
   ],
   "source": [
    "# get a sense of distribution of emails with images\n",
    "table(email$image)"
   ]
  },
  {
   "cell_type": "code",
   "execution_count": 56,
   "id": "074d7ff5-299c-4c25-8b7c-4b3d47ccbede",
   "metadata": {},
   "outputs": [
    {
     "data": {
      "image/png": "[encoded data removed]",
      "text/plain": [
       "plot without title"
      ]
     },
     "metadata": {},
     "output_type": "display_data"
    }
   ],
   "source": [
    "# Create plot of proportion of spam by image\n",
    "email %>%\n",
    "  mutate(has_image = image >0) %>%  # new variable that is TRUE where the number of images is greater than zero and FALSE otherwise.\n",
    "  ggplot(aes(x = has_image, fill = spam)) +  # visualize the relationship between has_image and spam.\n",
    "  geom_bar(position = \"fill\")\n",
    "\n",
    "#ggplot(aes(x = as.factor(has_image), fill = spam)) +"
   ]
  },
  {
   "cell_type": "markdown",
   "id": "7a3873d2-c58a-413f-8228-bf8f27a64a1b",
   "metadata": {},
   "source": [
    "We can see that an email without an image is more likely to be not-spam than spam."
   ]
  },
  {
   "cell_type": "markdown",
   "id": "4e202a95-779e-4290-90da-8ab3ee8347a4",
   "metadata": {},
   "source": [
    "**Check whether or not images are counted as attachment or not**"
   ]
  },
  {
   "cell_type": "code",
   "execution_count": 40,
   "id": "748209b3-ac57-46ab-ab57-fcdae319b0da",
   "metadata": {},
   "outputs": [
    {
     "data": {
      "text/html": [
       "0"
      ],
      "text/latex": [
       "0"
      ],
      "text/markdown": [
       "0"
      ],
      "text/plain": [
       "[1] 0"
      ]
     },
     "metadata": {},
     "output_type": "display_data"
    },
    {
     "data": {
      "text/html": [
       "0"
      ],
      "text/latex": [
       "0"
      ],
      "text/markdown": [
       "0"
      ],
      "text/plain": [
       "[1] 0"
      ]
     },
     "metadata": {},
     "output_type": "display_data"
    }
   ],
   "source": [
    "# Test if images are count as attachments or not\n",
    "sum(email$image<0)\n",
    "sum(email$attach<0)"
   ]
  },
  {
   "cell_type": "markdown",
   "id": "d7a9cf04-a891-421f-94d4-307aaff660de",
   "metadata": {},
   "source": [
    "Since number of image is never greater than attach, we can infer that images are counted as attachments"
   ]
  },
  {
   "cell_type": "markdown",
   "id": "cddaca54-53d6-456f-8792-f6734709939e",
   "metadata": {},
   "source": [
    "**Within non-spam emails, is the typical length of emails shorter for those that were sent to multiple people**"
   ]
  },
  {
   "cell_type": "code",
   "execution_count": 42,
   "id": "3012e8b4-3869-46ee-89e9-3bc902ffd138",
   "metadata": {},
   "outputs": [
    {
     "name": "stdout",
     "output_type": "stream",
     "text": [
      "tibble [3,921 x 21] (S3: tbl_df/tbl/data.frame)\n",
      " $ spam        : Factor w/ 2 levels \"0\",\"1\": 1 1 1 1 1 1 1 1 1 1 ...\n",
      " $ to_multiple : Factor w/ 2 levels \"0\",\"1\": 1 1 1 1 1 1 2 2 1 1 ...\n",
      " $ from        : Factor w/ 2 levels \"0\",\"1\": 2 2 2 2 2 2 2 2 2 2 ...\n",
      " $ cc          : int [1:3921] 0 0 0 0 0 0 0 1 0 0 ...\n",
      " $ sent_email  : Factor w/ 2 levels \"0\",\"1\": 1 1 1 1 1 1 2 2 1 1 ...\n",
      " $ time        : POSIXct[1:3921], format: \"2012-01-01 06:16:41\" \"2012-01-01 07:03:59\" ...\n",
      " $ image       : num [1:3921] 0 0 0 0 0 0 0 1 0 0 ...\n",
      " $ attach      : num [1:3921] 0 0 0 0 0 0 0 1 0 0 ...\n",
      " $ dollar      : num [1:3921] 0 0 4 0 0 0 0 0 0 0 ...\n",
      " $ winner      : Factor w/ 2 levels \"no\",\"yes\": 1 1 1 1 1 1 1 1 1 1 ...\n",
      " $ inherit     : num [1:3921] 0 0 1 0 0 0 0 0 0 0 ...\n",
      " $ viagra      : num [1:3921] 0 0 0 0 0 0 0 0 0 0 ...\n",
      " $ password    : num [1:3921] 0 0 0 0 2 2 0 0 0 0 ...\n",
      " $ num_char    : num [1:3921] 11.37 10.5 7.77 13.26 1.23 ...\n",
      " $ line_breaks : int [1:3921] 202 202 192 255 29 25 193 237 69 68 ...\n",
      " $ format      : Factor w/ 2 levels \"0\",\"1\": 2 2 2 2 1 1 2 2 1 2 ...\n",
      " $ re_subj     : Factor w/ 2 levels \"0\",\"1\": 1 1 1 1 1 1 1 1 1 1 ...\n",
      " $ exclaim_subj: num [1:3921] 0 0 0 0 0 0 0 0 0 0 ...\n",
      " $ urgent_subj : Factor w/ 2 levels \"0\",\"1\": 1 1 1 1 1 1 1 1 1 1 ...\n",
      " $ exclaim_mess: num [1:3921] 0 1 6 48 1 1 1 18 1 0 ...\n",
      " $ number      : Factor w/ 3 levels \"none\",\"small\",..: 3 2 2 2 1 1 3 2 2 2 ...\n"
     ]
    }
   ],
   "source": [
    "str(email)"
   ]
  },
  {
   "cell_type": "code",
   "execution_count": 46,
   "id": "fcfc90b4-f08c-4976-ad07-c452d01bcb18",
   "metadata": {},
   "outputs": [
    {
     "data": {
      "text/html": [
       "<table>\n",
       "<thead><tr><th scope=col>to_multiple</th><th scope=col>median(num_char)</th></tr></thead>\n",
       "<tbody>\n",
       "\t<tr><td>0     </td><td>7.1960</td></tr>\n",
       "\t<tr><td>1     </td><td>5.3645</td></tr>\n",
       "</tbody>\n",
       "</table>\n"
      ],
      "text/latex": [
       "\\begin{tabular}{r|ll}\n",
       " to\\_multiple & median(num\\_char)\\\\\n",
       "\\hline\n",
       "\t 0      & 7.1960\\\\\n",
       "\t 1      & 5.3645\\\\\n",
       "\\end{tabular}\n"
      ],
      "text/markdown": [
       "\n",
       "| to_multiple | median(num_char) |\n",
       "|---|---|\n",
       "| 0      | 7.1960 |\n",
       "| 1      | 5.3645 |\n",
       "\n"
      ],
      "text/plain": [
       "  to_multiple median(num_char)\n",
       "1 0           7.1960          \n",
       "2 1           5.3645          "
      ]
     },
     "metadata": {},
     "output_type": "display_data"
    }
   ],
   "source": [
    "email %>%\n",
    "   filter(spam == 0) %>%\n",
    "   group_by(to_multiple) %>%\n",
    "   summarize(median(num_char))"
   ]
  },
  {
   "cell_type": "markdown",
   "id": "93471294-9927-4bdf-b2cc-12495d8f7aa9",
   "metadata": {},
   "source": [
    "\"yes\": the typical length of non-spam sent to multiple people is a bit lower than those sent to only one person."
   ]
  },
  {
   "cell_type": "markdown",
   "id": "37f2616c-b7b8-4bd3-a354-eed28c75cbf0",
   "metadata": {},
   "source": [
    "### Email and presence of dollars"
   ]
  },
  {
   "cell_type": "markdown",
   "id": "3cb655aa-c6fc-4108-a8c7-eec5a110796b",
   "metadata": {},
   "source": [
    "**Does a typical spam email contain a greater number of occurrences of the word \"dollar\" as compared with non-spam email?**"
   ]
  },
  {
   "cell_type": "code",
   "execution_count": 47,
   "id": "c30b83e1-9295-44bd-8bf9-89374cf9d8b9",
   "metadata": {},
   "outputs": [
    {
     "data": {
      "text/html": [
       "<table>\n",
       "<thead><tr><th scope=col>spam</th><th scope=col>n()</th></tr></thead>\n",
       "<tbody>\n",
       "\t<tr><td>0  </td><td>668</td></tr>\n",
       "\t<tr><td>1  </td><td> 78</td></tr>\n",
       "</tbody>\n",
       "</table>\n"
      ],
      "text/latex": [
       "\\begin{tabular}{r|ll}\n",
       " spam & n()\\\\\n",
       "\\hline\n",
       "\t 0   & 668\\\\\n",
       "\t 1   &  78\\\\\n",
       "\\end{tabular}\n"
      ],
      "text/markdown": [
       "\n",
       "| spam | n() |\n",
       "|---|---|\n",
       "| 0   | 668 |\n",
       "| 1   |  78 |\n",
       "\n"
      ],
      "text/plain": [
       "  spam n()\n",
       "1 0    668\n",
       "2 1     78"
      ]
     },
     "metadata": {},
     "output_type": "display_data"
    }
   ],
   "source": [
    "# Summary stats for the email with dollars\n",
    "email %>%\n",
    "  filter(dollar >0 ) %>%\n",
    "  group_by(spam) %>%\n",
    "  summarize(n())"
   ]
  },
  {
   "cell_type": "markdown",
   "id": "1e67fced-bc90-4e84-b9b2-83354ed4a2b6",
   "metadata": {},
   "source": [
    "**For email with greater than 10 occurrences of the word \"dollar\", is it more likely to be spam or not-spam?**"
   ]
  },
  {
   "cell_type": "code",
   "execution_count": 50,
   "id": "da22d9b9-f30a-4428-be91-c8193842f00a",
   "metadata": {},
   "outputs": [
    {
     "data": {
      "text/html": [
       "<table>\n",
       "<thead><tr><th scope=col>spam</th><th scope=col>n()</th></tr></thead>\n",
       "<tbody>\n",
       "\t<tr><td>0  </td><td>173</td></tr>\n",
       "\t<tr><td>1  </td><td>  3</td></tr>\n",
       "</tbody>\n",
       "</table>\n"
      ],
      "text/latex": [
       "\\begin{tabular}{r|ll}\n",
       " spam & n()\\\\\n",
       "\\hline\n",
       "\t 0   & 173\\\\\n",
       "\t 1   &   3\\\\\n",
       "\\end{tabular}\n"
      ],
      "text/markdown": [
       "\n",
       "| spam | n() |\n",
       "|---|---|\n",
       "| 0   | 173 |\n",
       "| 1   |   3 |\n",
       "\n"
      ],
      "text/plain": [
       "  spam n()\n",
       "1 0    173\n",
       "2 1      3"
      ]
     },
     "metadata": {},
     "output_type": "display_data"
    },
    {
     "data": {
      "image/png": "[encoded data removed]",
      "text/plain": [
       "plot without title"
      ]
     },
     "metadata": {},
     "output_type": "display_data"
    }
   ],
   "source": [
    "# Summary statistics and plot\n",
    "email %>%\n",
    "  filter(dollar >10) %>%\n",
    "  group_by(spam) %>%\n",
    "  summarize(n())\n",
    "\n",
    "email %>%\n",
    "  filter(dollar >10) %>%\n",
    "  ggplot(aes(x = spam)) +\n",
    "  geom_bar()"
   ]
  },
  {
   "cell_type": "markdown",
   "id": "18cda4a3-1d93-47eb-b97d-4c91ba77b6d2",
   "metadata": {},
   "source": [
    "## Ordering Bars"
   ]
  },
  {
   "cell_type": "markdown",
   "id": "332a17c4-ccc4-430b-9f87-1e3ba6865584",
   "metadata": {},
   "source": [
    "**Ordering levels of \"number\" variable**"
   ]
  },
  {
   "cell_type": "code",
   "execution_count": 66,
   "id": "8a58c939-9c5b-452e-9ee8-7a6008527818",
   "metadata": {},
   "outputs": [
    {
     "data": {
      "text/html": [
       "<ol class=list-inline>\n",
       "\t<li>'none'</li>\n",
       "\t<li>'small'</li>\n",
       "\t<li>'big'</li>\n",
       "</ol>\n"
      ],
      "text/latex": [
       "\\begin{enumerate*}\n",
       "\\item 'none'\n",
       "\\item 'small'\n",
       "\\item 'big'\n",
       "\\end{enumerate*}\n"
      ],
      "text/markdown": [
       "1. 'none'\n",
       "2. 'small'\n",
       "3. 'big'\n",
       "\n",
       "\n"
      ],
      "text/plain": [
       "[1] \"none\"  \"small\" \"big\"  "
      ]
     },
     "metadata": {},
     "output_type": "display_data"
    },
    {
     "data": {
      "image/png": "[encoded data removed]",
      "text/plain": [
       "plot without title"
      ]
     },
     "metadata": {},
     "output_type": "display_data"
    }
   ],
   "source": [
    "# Reorder levels\n",
    "email$number_reordered <- factor(email$number,levels = c(\"none\",\"small\",\"big\"))\n",
    "levels(email$number_reordered)\n",
    "\n",
    "# Construct plot of number_reordered\n",
    "ggplot(email, aes(x = number_reordered)) +\n",
    "  geom_bar() +\n",
    "  facet_wrap(~spam)"
   ]
  },
  {
   "cell_type": "markdown",
   "id": "9c7c8da5-15d4-47af-a121-992e407dfa67",
   "metadata": {},
   "source": [
    "**Creating and ordering levels**"
   ]
  },
  {
   "cell_type": "code",
   "execution_count": 62,
   "id": "ebcb5a26-fabb-400f-afab-ec39ae8cce11",
   "metadata": {},
   "outputs": [
    {
     "data": {
      "text/plain": [
       "NULL"
      ]
     },
     "metadata": {},
     "output_type": "display_data"
    }
   ],
   "source": [
    "# Create new condition for exclaim_mess and save it back into the data\n",
    "email <- email %>%\n",
    "    mutate(zero = exclaim_mess == 0)\n",
    "    levels(email$zero)"
   ]
  },
  {
   "cell_type": "code",
   "execution_count": 64,
   "id": "8ba66735-47c5-46fe-a9c9-333edad2c3bc",
   "metadata": {},
   "outputs": [
    {
     "name": "stdout",
     "output_type": "stream",
     "text": [
      "tibble [3,921 x 22] (S3: tbl_df/tbl/data.frame)\n",
      " $ spam        : Factor w/ 2 levels \"0\",\"1\": 1 1 1 1 1 1 1 1 1 1 ...\n",
      " $ to_multiple : Factor w/ 2 levels \"0\",\"1\": 1 1 1 1 1 1 2 2 1 1 ...\n",
      " $ from        : Factor w/ 2 levels \"0\",\"1\": 2 2 2 2 2 2 2 2 2 2 ...\n",
      " $ cc          : int [1:3921] 0 0 0 0 0 0 0 1 0 0 ...\n",
      " $ sent_email  : Factor w/ 2 levels \"0\",\"1\": 1 1 1 1 1 1 2 2 1 1 ...\n",
      " $ time        : POSIXct[1:3921], format: \"2012-01-01 06:16:41\" \"2012-01-01 07:03:59\" ...\n",
      " $ image       : num [1:3921] 0 0 0 0 0 0 0 1 0 0 ...\n",
      " $ attach      : num [1:3921] 0 0 0 0 0 0 0 1 0 0 ...\n",
      " $ dollar      : num [1:3921] 0 0 4 0 0 0 0 0 0 0 ...\n",
      " $ winner      : Factor w/ 2 levels \"no\",\"yes\": 1 1 1 1 1 1 1 1 1 1 ...\n",
      " $ inherit     : num [1:3921] 0 0 1 0 0 0 0 0 0 0 ...\n",
      " $ viagra      : num [1:3921] 0 0 0 0 0 0 0 0 0 0 ...\n",
      " $ password    : num [1:3921] 0 0 0 0 2 2 0 0 0 0 ...\n",
      " $ num_char    : num [1:3921] 11.37 10.5 7.77 13.26 1.23 ...\n",
      " $ line_breaks : int [1:3921] 202 202 192 255 29 25 193 237 69 68 ...\n",
      " $ format      : Factor w/ 2 levels \"0\",\"1\": 2 2 2 2 1 1 2 2 1 2 ...\n",
      " $ re_subj     : Factor w/ 2 levels \"0\",\"1\": 1 1 1 1 1 1 1 1 1 1 ...\n",
      " $ exclaim_subj: num [1:3921] 0 0 0 0 0 0 0 0 0 0 ...\n",
      " $ urgent_subj : Factor w/ 2 levels \"0\",\"1\": 1 1 1 1 1 1 1 1 1 1 ...\n",
      " $ exclaim_mess: num [1:3921] 0 1 6 48 1 1 1 18 1 0 ...\n",
      " $ number      : Factor w/ 3 levels \"none\",\"small\",..: 3 2 2 2 1 1 3 2 2 2 ...\n",
      " $ zero        : logi [1:3921] TRUE FALSE FALSE FALSE FALSE FALSE ...\n"
     ]
    }
   ],
   "source": [
    "str(email)"
   ]
  },
  {
   "cell_type": "code",
   "execution_count": 59,
   "id": "c6d09cd4-cb59-4e13-9fff-4bdb6af9b7c9",
   "metadata": {},
   "outputs": [
    {
     "data": {
      "text/html": [
       "<ol class=list-inline>\n",
       "\t<li>'TRUE'</li>\n",
       "\t<li>'FALSE'</li>\n",
       "</ol>\n"
      ],
      "text/latex": [
       "\\begin{enumerate*}\n",
       "\\item 'TRUE'\n",
       "\\item 'FALSE'\n",
       "\\end{enumerate*}\n"
      ],
      "text/markdown": [
       "1. 'TRUE'\n",
       "2. 'FALSE'\n",
       "\n",
       "\n"
      ],
      "text/plain": [
       "[1] \"TRUE\"  \"FALSE\""
      ]
     },
     "metadata": {},
     "output_type": "display_data"
    }
   ],
   "source": [
    "# Set the levels to factor\n",
    "email$zero <- factor(email$zero,levels = c(\"TRUE\",\"FALSE\"))\n",
    "levels(email$zero)"
   ]
  },
  {
   "cell_type": "code",
   "execution_count": 60,
   "id": "71ebc2a2-def3-416b-a031-f6dace6f635e",
   "metadata": {},
   "outputs": [
    {
     "data": {
      "image/png": "[encoded data removed]",
      "text/plain": [
       "plot without title"
      ]
     },
     "metadata": {},
     "output_type": "display_data"
    }
   ],
   "source": [
    "email %>%\n",
    "    ggplot(aes(x = zero)) +\n",
    "    geom_bar() +\n",
    "    facet_wrap(~spam)"
   ]
  },
  {
   "cell_type": "markdown",
   "id": "48950cef-d378-4ddc-aa31-dbdb63289432",
   "metadata": {},
   "source": [
    "- Given that an email contains a small number, it is more likely to be not-spam.\n",
    "- Given that an email contains a big number, it is more likely to be not-spam.\n",
    "- Within both spam and not-spam, the most common number is a small one."
   ]
  },
  {
   "cell_type": "code",
   "execution_count": null,
   "id": "73a6a345-5475-450c-8e08-139cb26c2e53",
   "metadata": {},
   "outputs": [],
   "source": []
  }
 ],
 "metadata": {
  "kernelspec": {
   "display_name": "R",
   "language": "R",
   "name": "ir"
  },
  "language_info": {
   "codemirror_mode": "r",
   "file_extension": ".r",
   "mimetype": "text/x-r-source",
   "name": "R",
   "pygments_lexer": "r",
   "version": "3.6.1"
  }
 },
 "nbformat": 4,
 "nbformat_minor": 5
}
