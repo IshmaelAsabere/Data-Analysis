{
 "cells": [
  {
   "cell_type": "markdown",
   "id": "dccd0420-5a97-41f2-8446-e209d66236ec",
   "metadata": {},
   "source": [
    "# Exploring Numerical Data"
   ]
  },
  {
   "cell_type": "markdown",
   "id": "d56d270f-8865-47d8-b51b-797a11dd1f98",
   "metadata": {},
   "source": [
    "## Settings"
   ]
  },
  {
   "cell_type": "code",
   "execution_count": 26,
   "id": "f431b6bb-d017-4831-b46f-6690f1234d44",
   "metadata": {},
   "outputs": [],
   "source": [
    "# Import relevant libraries\n",
    "library(ggplot2)\n",
    "library(dplyr)\n",
    "library(gapminder)\n",
    "\n",
    "options(scipen=999)"
   ]
  },
  {
   "cell_type": "markdown",
   "id": "9e637741-187a-469e-860a-1d5feb892f11",
   "metadata": {},
   "source": [
    "**Import the cars dataset**"
   ]
  },
  {
   "cell_type": "code",
   "execution_count": 2,
   "id": "e256b247-e4c3-46ee-b6ba-37a6ecbba3ca",
   "metadata": {},
   "outputs": [
    {
     "data": {
      "text/html": [
       "<table>\n",
       "<thead><tr><th scope=col>name</th><th scope=col>sports_car</th><th scope=col>suv</th><th scope=col>wagon</th><th scope=col>minivan</th><th scope=col>pickup</th><th scope=col>all_wheel</th><th scope=col>rear_wheel</th><th scope=col>msrp</th><th scope=col>dealer_cost</th><th scope=col>eng_size</th><th scope=col>ncyl</th><th scope=col>horsepwr</th><th scope=col>city_mpg</th><th scope=col>hwy_mpg</th><th scope=col>weight</th><th scope=col>wheel_base</th><th scope=col>length</th><th scope=col>width</th></tr></thead>\n",
       "<tbody>\n",
       "\t<tr><td>Chevrolet Aveo 4dr         </td><td>FALSE                      </td><td>FALSE                      </td><td>FALSE                      </td><td>FALSE                      </td><td>FALSE                      </td><td>FALSE                      </td><td>FALSE                      </td><td>11690                      </td><td>10965                      </td><td>1.6                        </td><td>4                          </td><td>103                        </td><td>28                         </td><td>34                         </td><td>2370                       </td><td> 98                        </td><td>167                        </td><td>66                         </td></tr>\n",
       "\t<tr><td>Chevrolet Aveo LS 4dr hatch</td><td>FALSE                      </td><td>FALSE                      </td><td>FALSE                      </td><td>FALSE                      </td><td>FALSE                      </td><td>FALSE                      </td><td>FALSE                      </td><td>12585                      </td><td>11802                      </td><td>1.6                        </td><td>4                          </td><td>103                        </td><td>28                         </td><td>34                         </td><td>2348                       </td><td> 98                        </td><td>153                        </td><td>66                         </td></tr>\n",
       "\t<tr><td>Chevrolet Cavalier 2dr     </td><td>FALSE                      </td><td>FALSE                      </td><td>FALSE                      </td><td>FALSE                      </td><td>FALSE                      </td><td>FALSE                      </td><td>FALSE                      </td><td>14610                      </td><td>13697                      </td><td>2.2                        </td><td>4                          </td><td>140                        </td><td>26                         </td><td>37                         </td><td>2617                       </td><td>104                        </td><td>183                        </td><td>69                         </td></tr>\n",
       "\t<tr><td>Chevrolet Cavalier 4dr     </td><td>FALSE                      </td><td>FALSE                      </td><td>FALSE                      </td><td>FALSE                      </td><td>FALSE                      </td><td>FALSE                      </td><td>FALSE                      </td><td>14810                      </td><td>13884                      </td><td>2.2                        </td><td>4                          </td><td>140                        </td><td>26                         </td><td>37                         </td><td>2676                       </td><td>104                        </td><td>183                        </td><td>68                         </td></tr>\n",
       "\t<tr><td>Chevrolet Cavalier LS 2dr  </td><td>FALSE                      </td><td>FALSE                      </td><td>FALSE                      </td><td>FALSE                      </td><td>FALSE                      </td><td>FALSE                      </td><td>FALSE                      </td><td>16385                      </td><td>15357                      </td><td>2.2                        </td><td>4                          </td><td>140                        </td><td>26                         </td><td>37                         </td><td>2617                       </td><td>104                        </td><td>183                        </td><td>69                         </td></tr>\n",
       "\t<tr><td>Dodge Neon SE 4dr          </td><td>FALSE                      </td><td>FALSE                      </td><td>FALSE                      </td><td>FALSE                      </td><td>FALSE                      </td><td>FALSE                      </td><td>FALSE                      </td><td>13670                      </td><td>12849                      </td><td>2.0                        </td><td>4                          </td><td>132                        </td><td>29                         </td><td>36                         </td><td>2581                       </td><td>105                        </td><td>174                        </td><td>67                         </td></tr>\n",
       "</tbody>\n",
       "</table>\n"
      ],
      "text/latex": [
       "\\begin{tabular}{r|lllllllllllllllllll}\n",
       " name & sports\\_car & suv & wagon & minivan & pickup & all\\_wheel & rear\\_wheel & msrp & dealer\\_cost & eng\\_size & ncyl & horsepwr & city\\_mpg & hwy\\_mpg & weight & wheel\\_base & length & width\\\\\n",
       "\\hline\n",
       "\t Chevrolet Aveo 4dr          & FALSE                       & FALSE                       & FALSE                       & FALSE                       & FALSE                       & FALSE                       & FALSE                       & 11690                       & 10965                       & 1.6                         & 4                           & 103                         & 28                          & 34                          & 2370                        &  98                         & 167                         & 66                         \\\\\n",
       "\t Chevrolet Aveo LS 4dr hatch & FALSE                       & FALSE                       & FALSE                       & FALSE                       & FALSE                       & FALSE                       & FALSE                       & 12585                       & 11802                       & 1.6                         & 4                           & 103                         & 28                          & 34                          & 2348                        &  98                         & 153                         & 66                         \\\\\n",
       "\t Chevrolet Cavalier 2dr      & FALSE                       & FALSE                       & FALSE                       & FALSE                       & FALSE                       & FALSE                       & FALSE                       & 14610                       & 13697                       & 2.2                         & 4                           & 140                         & 26                          & 37                          & 2617                        & 104                         & 183                         & 69                         \\\\\n",
       "\t Chevrolet Cavalier 4dr      & FALSE                       & FALSE                       & FALSE                       & FALSE                       & FALSE                       & FALSE                       & FALSE                       & 14810                       & 13884                       & 2.2                         & 4                           & 140                         & 26                          & 37                          & 2676                        & 104                         & 183                         & 68                         \\\\\n",
       "\t Chevrolet Cavalier LS 2dr   & FALSE                       & FALSE                       & FALSE                       & FALSE                       & FALSE                       & FALSE                       & FALSE                       & 16385                       & 15357                       & 2.2                         & 4                           & 140                         & 26                          & 37                          & 2617                        & 104                         & 183                         & 69                         \\\\\n",
       "\t Dodge Neon SE 4dr           & FALSE                       & FALSE                       & FALSE                       & FALSE                       & FALSE                       & FALSE                       & FALSE                       & 13670                       & 12849                       & 2.0                         & 4                           & 132                         & 29                          & 36                          & 2581                        & 105                         & 174                         & 67                         \\\\\n",
       "\\end{tabular}\n"
      ],
      "text/markdown": [
       "\n",
       "| name | sports_car | suv | wagon | minivan | pickup | all_wheel | rear_wheel | msrp | dealer_cost | eng_size | ncyl | horsepwr | city_mpg | hwy_mpg | weight | wheel_base | length | width |\n",
       "|---|---|---|---|---|---|---|---|---|---|---|---|---|---|---|---|---|---|---|\n",
       "| Chevrolet Aveo 4dr          | FALSE                       | FALSE                       | FALSE                       | FALSE                       | FALSE                       | FALSE                       | FALSE                       | 11690                       | 10965                       | 1.6                         | 4                           | 103                         | 28                          | 34                          | 2370                        |  98                         | 167                         | 66                          |\n",
       "| Chevrolet Aveo LS 4dr hatch | FALSE                       | FALSE                       | FALSE                       | FALSE                       | FALSE                       | FALSE                       | FALSE                       | 12585                       | 11802                       | 1.6                         | 4                           | 103                         | 28                          | 34                          | 2348                        |  98                         | 153                         | 66                          |\n",
       "| Chevrolet Cavalier 2dr      | FALSE                       | FALSE                       | FALSE                       | FALSE                       | FALSE                       | FALSE                       | FALSE                       | 14610                       | 13697                       | 2.2                         | 4                           | 140                         | 26                          | 37                          | 2617                        | 104                         | 183                         | 69                          |\n",
       "| Chevrolet Cavalier 4dr      | FALSE                       | FALSE                       | FALSE                       | FALSE                       | FALSE                       | FALSE                       | FALSE                       | 14810                       | 13884                       | 2.2                         | 4                           | 140                         | 26                          | 37                          | 2676                        | 104                         | 183                         | 68                          |\n",
       "| Chevrolet Cavalier LS 2dr   | FALSE                       | FALSE                       | FALSE                       | FALSE                       | FALSE                       | FALSE                       | FALSE                       | 16385                       | 15357                       | 2.2                         | 4                           | 140                         | 26                          | 37                          | 2617                        | 104                         | 183                         | 69                          |\n",
       "| Dodge Neon SE 4dr           | FALSE                       | FALSE                       | FALSE                       | FALSE                       | FALSE                       | FALSE                       | FALSE                       | 13670                       | 12849                       | 2.0                         | 4                           | 132                         | 29                          | 36                          | 2581                        | 105                         | 174                         | 67                          |\n",
       "\n"
      ],
      "text/plain": [
       "  name                        sports_car suv   wagon minivan pickup all_wheel\n",
       "1 Chevrolet Aveo 4dr          FALSE      FALSE FALSE FALSE   FALSE  FALSE    \n",
       "2 Chevrolet Aveo LS 4dr hatch FALSE      FALSE FALSE FALSE   FALSE  FALSE    \n",
       "3 Chevrolet Cavalier 2dr      FALSE      FALSE FALSE FALSE   FALSE  FALSE    \n",
       "4 Chevrolet Cavalier 4dr      FALSE      FALSE FALSE FALSE   FALSE  FALSE    \n",
       "5 Chevrolet Cavalier LS 2dr   FALSE      FALSE FALSE FALSE   FALSE  FALSE    \n",
       "6 Dodge Neon SE 4dr           FALSE      FALSE FALSE FALSE   FALSE  FALSE    \n",
       "  rear_wheel msrp  dealer_cost eng_size ncyl horsepwr city_mpg hwy_mpg weight\n",
       "1 FALSE      11690 10965       1.6      4    103      28       34      2370  \n",
       "2 FALSE      12585 11802       1.6      4    103      28       34      2348  \n",
       "3 FALSE      14610 13697       2.2      4    140      26       37      2617  \n",
       "4 FALSE      14810 13884       2.2      4    140      26       37      2676  \n",
       "5 FALSE      16385 15357       2.2      4    140      26       37      2617  \n",
       "6 FALSE      13670 12849       2.0      4    132      29       36      2581  \n",
       "  wheel_base length width\n",
       "1  98        167    66   \n",
       "2  98        153    66   \n",
       "3 104        183    69   \n",
       "4 104        183    68   \n",
       "5 104        183    69   \n",
       "6 105        174    67   "
      ]
     },
     "metadata": {},
     "output_type": "display_data"
    }
   ],
   "source": [
    "# define the filename\n",
    "filename <- \"cars04.csv\"\n",
    "\n",
    "# load the CSV file from the local directory\n",
    "cars <- read.csv(filename)\n",
    "\n",
    "# preview the first 5 rows\n",
    "head(cars)"
   ]
  },
  {
   "cell_type": "code",
   "execution_count": 3,
   "id": "63bdd347-7536-4432-9a33-a819b7fec9be",
   "metadata": {},
   "outputs": [
    {
     "name": "stdout",
     "output_type": "stream",
     "text": [
      "'data.frame':\t428 obs. of  19 variables:\n",
      " $ name       : Factor w/ 425 levels \"Acura 3.5 RL 4dr\",..: 66 67 68 69 70 114 115 133 129 130 ...\n",
      " $ sports_car : logi  FALSE FALSE FALSE FALSE FALSE FALSE ...\n",
      " $ suv        : logi  FALSE FALSE FALSE FALSE FALSE FALSE ...\n",
      " $ wagon      : logi  FALSE FALSE FALSE FALSE FALSE FALSE ...\n",
      " $ minivan    : logi  FALSE FALSE FALSE FALSE FALSE FALSE ...\n",
      " $ pickup     : logi  FALSE FALSE FALSE FALSE FALSE FALSE ...\n",
      " $ all_wheel  : logi  FALSE FALSE FALSE FALSE FALSE FALSE ...\n",
      " $ rear_wheel : logi  FALSE FALSE FALSE FALSE FALSE FALSE ...\n",
      " $ msrp       : int  11690 12585 14610 14810 16385 13670 15040 13270 13730 15460 ...\n",
      " $ dealer_cost: int  10965 11802 13697 13884 15357 12849 14086 12482 12906 14496 ...\n",
      " $ eng_size   : num  1.6 1.6 2.2 2.2 2.2 2 2 2 2 2 ...\n",
      " $ ncyl       : int  4 4 4 4 4 4 4 4 4 4 ...\n",
      " $ horsepwr   : int  103 103 140 140 140 132 132 130 110 130 ...\n",
      " $ city_mpg   : int  28 28 26 26 26 29 29 26 27 26 ...\n",
      " $ hwy_mpg    : int  34 34 37 37 37 36 36 33 36 33 ...\n",
      " $ weight     : int  2370 2348 2617 2676 2617 2581 2626 2612 2606 2606 ...\n",
      " $ wheel_base : int  98 98 104 104 104 105 105 103 103 103 ...\n",
      " $ length     : int  167 153 183 183 183 174 174 168 168 168 ...\n",
      " $ width      : int  66 66 69 68 69 67 67 67 67 67 ...\n"
     ]
    }
   ],
   "source": [
    "# Learn data structure\n",
    "str(cars)"
   ]
  },
  {
   "cell_type": "markdown",
   "id": "ef33027e-0823-4e61-b967-d6371d4b03d7",
   "metadata": {},
   "source": [
    "**Import the gapminder dataset**"
   ]
  },
  {
   "cell_type": "code",
   "execution_count": 21,
   "id": "ff1463d5-c510-449b-a6ea-4d08f3d3e369",
   "metadata": {},
   "outputs": [
    {
     "data": {
      "text/html": [
       "<table>\n",
       "<thead><tr><th scope=col>country</th><th scope=col>continent</th><th scope=col>year</th><th scope=col>lifeExp</th><th scope=col>pop</th><th scope=col>gdpPercap</th></tr></thead>\n",
       "<tbody>\n",
       "\t<tr><td>Afghanistan</td><td>Asia       </td><td>1952       </td><td>28.801     </td><td> 8425333   </td><td>779.4453   </td></tr>\n",
       "\t<tr><td>Afghanistan</td><td>Asia       </td><td>1957       </td><td>30.332     </td><td> 9240934   </td><td>820.8530   </td></tr>\n",
       "\t<tr><td>Afghanistan</td><td>Asia       </td><td>1962       </td><td>31.997     </td><td>10267083   </td><td>853.1007   </td></tr>\n",
       "\t<tr><td>Afghanistan</td><td>Asia       </td><td>1967       </td><td>34.020     </td><td>11537966   </td><td>836.1971   </td></tr>\n",
       "\t<tr><td>Afghanistan</td><td>Asia       </td><td>1972       </td><td>36.088     </td><td>13079460   </td><td>739.9811   </td></tr>\n",
       "\t<tr><td>Afghanistan</td><td>Asia       </td><td>1977       </td><td>38.438     </td><td>14880372   </td><td>786.1134   </td></tr>\n",
       "</tbody>\n",
       "</table>\n"
      ],
      "text/latex": [
       "\\begin{tabular}{r|llllll}\n",
       " country & continent & year & lifeExp & pop & gdpPercap\\\\\n",
       "\\hline\n",
       "\t Afghanistan & Asia        & 1952        & 28.801      &  8425333    & 779.4453   \\\\\n",
       "\t Afghanistan & Asia        & 1957        & 30.332      &  9240934    & 820.8530   \\\\\n",
       "\t Afghanistan & Asia        & 1962        & 31.997      & 10267083    & 853.1007   \\\\\n",
       "\t Afghanistan & Asia        & 1967        & 34.020      & 11537966    & 836.1971   \\\\\n",
       "\t Afghanistan & Asia        & 1972        & 36.088      & 13079460    & 739.9811   \\\\\n",
       "\t Afghanistan & Asia        & 1977        & 38.438      & 14880372    & 786.1134   \\\\\n",
       "\\end{tabular}\n"
      ],
      "text/markdown": [
       "\n",
       "| country | continent | year | lifeExp | pop | gdpPercap |\n",
       "|---|---|---|---|---|---|\n",
       "| Afghanistan | Asia        | 1952        | 28.801      |  8425333    | 779.4453    |\n",
       "| Afghanistan | Asia        | 1957        | 30.332      |  9240934    | 820.8530    |\n",
       "| Afghanistan | Asia        | 1962        | 31.997      | 10267083    | 853.1007    |\n",
       "| Afghanistan | Asia        | 1967        | 34.020      | 11537966    | 836.1971    |\n",
       "| Afghanistan | Asia        | 1972        | 36.088      | 13079460    | 739.9811    |\n",
       "| Afghanistan | Asia        | 1977        | 38.438      | 14880372    | 786.1134    |\n",
       "\n"
      ],
      "text/plain": [
       "  country     continent year lifeExp pop      gdpPercap\n",
       "1 Afghanistan Asia      1952 28.801   8425333 779.4453 \n",
       "2 Afghanistan Asia      1957 30.332   9240934 820.8530 \n",
       "3 Afghanistan Asia      1962 31.997  10267083 853.1007 \n",
       "4 Afghanistan Asia      1967 34.020  11537966 836.1971 \n",
       "5 Afghanistan Asia      1972 36.088  13079460 739.9811 \n",
       "6 Afghanistan Asia      1977 38.438  14880372 786.1134 "
      ]
     },
     "metadata": {},
     "output_type": "display_data"
    }
   ],
   "source": [
    "# load the gap minder dataset\n",
    "life <- gapminder\n",
    "\n",
    "# Preview the data\n",
    "head(life)"
   ]
  },
  {
   "cell_type": "code",
   "execution_count": 17,
   "id": "995fee5b-e383-43e1-986d-a35a603f37ef",
   "metadata": {},
   "outputs": [
    {
     "name": "stdout",
     "output_type": "stream",
     "text": [
      "'data.frame':\t1704 obs. of  6 variables:\n",
      " $ country  : Factor w/ 142 levels \"Afghanistan\",..: 1 1 1 1 1 1 1 1 1 1 ...\n",
      " $ continent: Factor w/ 5 levels \"Africa\",\"Americas\",..: 3 3 3 3 3 3 3 3 3 3 ...\n",
      " $ year     : int  1952 1957 1962 1967 1972 1977 1982 1987 1992 1997 ...\n",
      " $ lifeExp  : num  28.8 30.3 32 34 36.1 ...\n",
      " $ pop      : int  8425333 9240934 10267083 11537966 13079460 14880372 12881816 13867957 16317921 22227415 ...\n",
      " $ gdpPercap: num  779 821 853 836 740 ...\n"
     ]
    }
   ],
   "source": [
    "# Learn data structure\n",
    "str(life)"
   ]
  },
  {
   "cell_type": "markdown",
   "id": "bbb1db5e-1abd-4e57-8cfc-76ce684efb2c",
   "metadata": {},
   "source": [
    "# Graphical Exploration"
   ]
  },
  {
   "cell_type": "markdown",
   "id": "8886ffd1-8f8f-41b9-98d0-015107f5ded0",
   "metadata": {},
   "source": [
    "### Graphical exploration of the cars dataset"
   ]
  },
  {
   "cell_type": "code",
   "execution_count": 4,
   "id": "4dc2a886-1812-492e-9294-aa8ee1f9304a",
   "metadata": {},
   "outputs": [
    {
     "name": "stderr",
     "output_type": "stream",
     "text": [
      "Bin width defaults to 1/30 of the range of the data. Pick better value with `binwidth`.\n",
      "Warning message:\n",
      "\"Removed 2 rows containing non-finite values (stat_bindot).\""
     ]
    },
    {
     "data": {
      "image/png": "[encoded data removed]",
      "text/plain": [
       "plot without title"
      ]
     },
     "metadata": {},
     "output_type": "display_data"
    }
   ],
   "source": [
    "# Dotplot\n",
    "ggplot(cars, aes(x = weight)) +\n",
    "geom_dotplot(dotsize = 0.4)"
   ]
  },
  {
   "cell_type": "code",
   "execution_count": 5,
   "id": "089fd9bd-5d96-49f3-90dd-78a1fabb3646",
   "metadata": {},
   "outputs": [
    {
     "name": "stderr",
     "output_type": "stream",
     "text": [
      "`stat_bin()` using `bins = 30`. Pick better value with `binwidth`.\n",
      "Warning message:\n",
      "\"Removed 2 rows containing non-finite values (stat_bin).\""
     ]
    },
    {
     "data": {
      "image/png": "[encoded data removed]",
      "text/plain": [
       "plot without title"
      ]
     },
     "metadata": {},
     "output_type": "display_data"
    }
   ],
   "source": [
    "# Histogram\n",
    "ggplot(cars, aes(x = weight)) +\n",
    "geom_histogram()"
   ]
  },
  {
   "cell_type": "code",
   "execution_count": 6,
   "id": "b29d1807-f31a-4afd-9705-8618fbbd1c6e",
   "metadata": {},
   "outputs": [
    {
     "name": "stderr",
     "output_type": "stream",
     "text": [
      "Warning message:\n",
      "\"Removed 2 rows containing non-finite values (stat_density).\""
     ]
    },
    {
     "data": {
      "image/png": "[encoded data removed]",
      "text/plain": [
       "plot without title"
      ]
     },
     "metadata": {},
     "output_type": "display_data"
    }
   ],
   "source": [
    "# Density plot\n",
    "ggplot(cars, aes(x = weight)) +\n",
    "geom_density()"
   ]
  },
  {
   "cell_type": "code",
   "execution_count": 7,
   "id": "f3d39e68-7b60-4fe5-9edc-cc7987adab97",
   "metadata": {},
   "outputs": [
    {
     "name": "stderr",
     "output_type": "stream",
     "text": [
      "Warning message:\n",
      "\"Removed 2 rows containing non-finite values (stat_boxplot).\""
     ]
    },
    {
     "data": {
      "image/png": "[encoded data removed]",
      "text/plain": [
       "plot without title"
      ]
     },
     "metadata": {},
     "output_type": "display_data"
    }
   ],
   "source": [
    "# Box plot\n",
    "ggplot(cars, aes(x = 1, y = weight)) +\n",
    "geom_boxplot() +\n",
    "coord_flip()"
   ]
  },
  {
   "cell_type": "code",
   "execution_count": 8,
   "id": "1c9b467a-6361-4e98-8be9-0bab0e71a48b",
   "metadata": {},
   "outputs": [
    {
     "name": "stderr",
     "output_type": "stream",
     "text": [
      "`stat_bin()` using `bins = 30`. Pick better value with `binwidth`.\n",
      "Warning message:\n",
      "\"Removed 14 rows containing non-finite values (stat_bin).\""
     ]
    },
    {
     "data": {
      "image/png": "[encoded data removed]",
      "text/plain": [
       "plot without title"
      ]
     },
     "metadata": {},
     "output_type": "display_data"
    }
   ],
   "source": [
    "# Plot a histogram of hwy_mpg faceted by pickup, a logical variable indicating whether the car is an pickup or not.\n",
    "ggplot(cars, aes(x = hwy_mpg)) +\n",
    "geom_histogram() +\n",
    "facet_wrap(~pickup)"
   ]
  },
  {
   "cell_type": "code",
   "execution_count": 9,
   "id": "e2b07464-4802-4eaf-bb49-7964f4f05f47",
   "metadata": {},
   "outputs": [
    {
     "name": "stderr",
     "output_type": "stream",
     "text": [
      "`stat_bin()` using `bins = 30`. Pick better value with `binwidth`.\n",
      "Warning message:\n",
      "\"Removed 14 rows containing non-finite values (stat_bin).\""
     ]
    },
    {
     "data": {
      "image/png": "[encoded data removed]",
      "text/plain": [
       "plot without title"
      ]
     },
     "metadata": {},
     "output_type": "display_data"
    }
   ],
   "source": [
    "# Plot a histogram of city_mpg faceted by suv, a logical variable indicating whether the car is an SUV or not.\n",
    "ggplot(cars, aes(x = city_mpg)) +\n",
    "  geom_histogram() +\n",
    "  facet_wrap(~ suv)"
   ]
  },
  {
   "cell_type": "markdown",
   "id": "33f67279-9cd4-4ed6-b30b-7c5573fede7f",
   "metadata": {},
   "source": [
    "**Compare relationship between two variables using Boxplots and density plots**"
   ]
  },
  {
   "cell_type": "code",
   "execution_count": 10,
   "id": "ec88a89f-cfc2-4f03-a66e-c92e29da210e",
   "metadata": {},
   "outputs": [
    {
     "name": "stderr",
     "output_type": "stream",
     "text": [
      "Warning message:\n",
      "\"Removed 11 rows containing non-finite values (stat_boxplot).\"Warning message:\n",
      "\"Removed 11 rows containing non-finite values (stat_density).\""
     ]
    },
    {
     "data": {
      "image/png": "[encoded data removed]",
      "text/plain": [
       "plot without title"
      ]
     },
     "metadata": {},
     "output_type": "display_data"
    },
    {
     "data": {
      "image/png": "[encoded data removed]",
      "text/plain": [
       "plot without title"
      ]
     },
     "metadata": {},
     "output_type": "display_data"
    }
   ],
   "source": [
    "# Filter cars to include only cars with 4, 6, or 8 cylinders and save the result as common_cyl\n",
    "common_cyl <- filter(cars, ncyl %in% c(4, 6, 8))\n",
    "\n",
    "# Create box plots of city mpg by ncyl\n",
    "ggplot(common_cyl, aes(x = as.factor(ncyl), y = city_mpg)) +\n",
    "  geom_boxplot()\n",
    "\n",
    "# Create overlaid density plots for same data\n",
    "ggplot(common_cyl, aes(x = city_mpg, fill = as.factor(ncyl))) +\n",
    "  geom_density(alpha = .3)"
   ]
  },
  {
   "cell_type": "markdown",
   "id": "377bf1ee-56c6-454d-b36b-6b248bb39a41",
   "metadata": {},
   "source": [
    "**Insights**\n",
    "- The highest mileage cars have 4 cylinders.\n",
    "- The typical 4 cylinder car gets better mileage than the typical 6 cylinder car, which gets better mileage than the typical 8 cylinder car.\n",
    "- Most of the 4 cylinder cars get better mileage than even the most efficient 8 cylinder cars."
   ]
  },
  {
   "cell_type": "markdown",
   "id": "16e03d74-b960-4fa1-bd7d-359f17aa7228",
   "metadata": {},
   "source": [
    "## Distribution of one Numeric variable"
   ]
  },
  {
   "cell_type": "markdown",
   "id": "7f369ec3-4172-4b63-9683-4cacdf8992d9",
   "metadata": {},
   "source": [
    "**Marginal distribution**"
   ]
  },
  {
   "cell_type": "code",
   "execution_count": 11,
   "id": "180a6246-5053-464b-a375-4c5f6a93ced2",
   "metadata": {},
   "outputs": [
    {
     "name": "stderr",
     "output_type": "stream",
     "text": [
      "`stat_bin()` using `bins = 30`. Pick better value with `binwidth`.\n",
      "Warning message:\n",
      "\"Removed 14 rows containing non-finite values (stat_bin).\""
     ]
    },
    {
     "data": {
      "image/png": "[encoded data removed]",
      "text/plain": [
       "plot without title"
      ]
     },
     "metadata": {},
     "output_type": "display_data"
    }
   ],
   "source": [
    "# Distribution of hwy_mpg\n",
    "ggplot(cars, aes(x = hwy_mpg)) +\n",
    "geom_histogram()"
   ]
  },
  {
   "cell_type": "code",
   "execution_count": 12,
   "id": "9160ee43-4674-47c2-8cad-21eaec8379d2",
   "metadata": {},
   "outputs": [
    {
     "name": "stderr",
     "output_type": "stream",
     "text": [
      "`stat_bin()` using `bins = 30`. Pick better value with `binwidth`.\n",
      "Warning message:\n",
      "\"Removed 14 rows containing non-finite values (stat_bin).\""
     ]
    },
    {
     "data": {
      "image/png": "[encoded data removed]",
      "text/plain": [
       "plot without title"
      ]
     },
     "metadata": {},
     "output_type": "display_data"
    }
   ],
   "source": [
    "# Distributions and conditionals: hwy_mpg that are pickup\n",
    "ggplot(cars, aes(x = hwy_mpg)) +\n",
    "geom_histogram() +\n",
    "facet_wrap(~pickup)"
   ]
  },
  {
   "cell_type": "markdown",
   "id": "4d4660fa-c259-46e6-a758-f34df6860841",
   "metadata": {},
   "source": [
    "**Distribution for specific conditions**\n",
    "- cars where eng_size < 2.0\n",
    "- Cars with small engines"
   ]
  },
  {
   "cell_type": "code",
   "execution_count": 13,
   "id": "9edf0ab5-a3d0-4acf-9059-f7f4befadb31",
   "metadata": {},
   "outputs": [
    {
     "name": "stderr",
     "output_type": "stream",
     "text": [
      "`stat_bin()` using `bins = 30`. Pick better value with `binwidth`.\n"
     ]
    },
    {
     "data": {
      "image/png": "[encoded data removed]",
      "text/plain": [
       "plot without title"
      ]
     },
     "metadata": {},
     "output_type": "display_data"
    }
   ],
   "source": [
    "# Filter for the condition of interest\n",
    "# Building a data pipeline\n",
    "cars2 <- cars %>%\n",
    "    filter(eng_size < 2.0)\n",
    "\n",
    "ggplot(cars2, aes(x = hwy_mpg)) +\n",
    "geom_histogram()"
   ]
  },
  {
   "cell_type": "code",
   "execution_count": 14,
   "id": "c262b601-24a9-4ff8-b915-abbe1e6b941f",
   "metadata": {},
   "outputs": [
    {
     "name": "stderr",
     "output_type": "stream",
     "text": [
      "`stat_bin()` using `bins = 30`. Pick better value with `binwidth`.\n"
     ]
    },
    {
     "data": {
      "image/png": "[encoded data removed]",
      "text/plain": [
       "plot without title"
      ]
     },
     "metadata": {},
     "output_type": "display_data"
    }
   ],
   "source": [
    "# Alternatively built as a continuos pipeline\n",
    "cars %>%\n",
    "    filter(eng_size < 2.0) %>%\n",
    "    ggplot(aes(x = hwy_mpg)) +\n",
    "    geom_histogram()"
   ]
  },
  {
   "cell_type": "code",
   "execution_count": 15,
   "id": "36952826-e066-4cf2-9b24-6fa1952ddcd0",
   "metadata": {},
   "outputs": [
    {
     "data": {
      "image/png": "[encoded data removed]",
      "text/plain": [
       "plot without title"
      ]
     },
     "metadata": {},
     "output_type": "display_data"
    }
   ],
   "source": [
    "# Adjust the bin width to change the shape of the chart\n",
    "cars %>%\n",
    "    filter(eng_size < 2.0) %>%\n",
    "    ggplot(aes(x = hwy_mpg)) +\n",
    "    geom_histogram(binwidth = 5)"
   ]
  },
  {
   "cell_type": "markdown",
   "id": "8765c917-1a16-4bdc-afeb-8ec6c5372988",
   "metadata": {},
   "source": [
    "**Using density plots**"
   ]
  },
  {
   "cell_type": "code",
   "execution_count": 16,
   "id": "de7b3f92-e6b9-4309-9ec6-ec5ec41a3351",
   "metadata": {},
   "outputs": [
    {
     "data": {
      "image/png": "[encoded data removed]",
      "text/plain": [
       "plot without title"
      ]
     },
     "metadata": {},
     "output_type": "display_data"
    }
   ],
   "source": [
    "# Explore using density plots\n",
    "cars %>%\n",
    "    filter(eng_size < 2.0) %>%\n",
    "    ggplot(aes(x = hwy_mpg)) +\n",
    "    geom_density()"
   ]
  },
  {
   "cell_type": "code",
   "execution_count": 17,
   "id": "1f76c20c-d06d-4a3b-8947-82ecf398bd8e",
   "metadata": {},
   "outputs": [
    {
     "data": {
      "image/png": "[encoded data removed]",
      "text/plain": [
       "plot without title"
      ]
     },
     "metadata": {},
     "output_type": "display_data"
    }
   ],
   "source": [
    "# Density plots with adjusted bins\n",
    "cars %>%\n",
    "    filter(eng_size < 2.0) %>%\n",
    "    ggplot(aes(x = hwy_mpg)) +\n",
    "    geom_density(bw = 5)"
   ]
  },
  {
   "cell_type": "markdown",
   "id": "f075a77d-e000-416b-ab48-f71eff705776",
   "metadata": {},
   "source": [
    "**Marginal and Conditional histograms**\n",
    "- Get a sense of the marginal distribution of `horsepwr` and then compare it to the distribution of horsepower conditional on the price of the car being less than `$25,000`"
   ]
  },
  {
   "cell_type": "code",
   "execution_count": 18,
   "id": "4a7a2626-bdd7-40f3-be6c-5124821c9625",
   "metadata": {},
   "outputs": [
    {
     "name": "stderr",
     "output_type": "stream",
     "text": [
      "`stat_bin()` using `bins = 30`. Pick better value with `binwidth`.\n",
      "`stat_bin()` using `bins = 30`. Pick better value with `binwidth`.\n",
      "Warning message:\n",
      "\"Removed 1 rows containing non-finite values (stat_bin).\"Warning message:\n",
      "\"Removed 2 rows containing missing values (geom_bar).\""
     ]
    },
    {
     "data": {
      "image/png": "[encoded data removed]",
      "text/plain": [
       "plot without title"
      ]
     },
     "metadata": {},
     "output_type": "display_data"
    },
    {
     "data": {
      "image/png": "[encoded data removed]",
      "text/plain": [
       "plot without title"
      ]
     },
     "metadata": {},
     "output_type": "display_data"
    }
   ],
   "source": [
    "# Create hist of horsepwr\n",
    "cars %>%\n",
    "  ggplot(aes(x = horsepwr)) +\n",
    "  geom_histogram() +\n",
    "  ggtitle(\"Distribution of horsepower\")\n",
    "\n",
    "# Create hist of horsepwr for affordable cars\n",
    "cars %>% \n",
    "  filter(msrp < 25000) %>%\n",
    "  ggplot(aes(x = horsepwr)) +\n",
    "  geom_histogram() +\n",
    "  xlim(c(90, 550)) +\n",
    "  ggtitle(\"Distribution of horsepower below 25000\")"
   ]
  },
  {
   "cell_type": "markdown",
   "id": "54bb9c12-12a1-4b71-8ab8-f46cf5e8622d",
   "metadata": {},
   "source": [
    "The highest horsepower car in the less expensive range has just under 250 horsepower."
   ]
  },
  {
   "cell_type": "markdown",
   "id": "8ea43762-a152-4130-b520-5733a0bd249b",
   "metadata": {},
   "source": [
    "**Comparisons of 3 different bandwith**"
   ]
  },
  {
   "cell_type": "code",
   "execution_count": 19,
   "id": "10dbff16-f1a8-461b-9b01-4fc4cb8764d2",
   "metadata": {},
   "outputs": [
    {
     "data": {
      "image/png": "[encoded data removed]",
      "text/plain": [
       "plot without title"
      ]
     },
     "metadata": {},
     "output_type": "display_data"
    },
    {
     "data": {
      "image/png": "[encoded data removed]",
      "text/plain": [
       "plot without title"
      ]
     },
     "metadata": {},
     "output_type": "display_data"
    },
    {
     "data": {
      "image/png": "[encoded data removed]",
      "text/plain": [
       "plot without title"
      ]
     },
     "metadata": {},
     "output_type": "display_data"
    }
   ],
   "source": [
    "# Create hist of horsepwr with binwidth of 3\n",
    "cars %>%\n",
    "  ggplot(aes(x = horsepwr)) +\n",
    "  geom_histogram(binwidth = 3) +\n",
    "  ggtitle(\"Distribution of horsepower: binwidth = 3\")\n",
    "\n",
    "# Create hist of horsepwr with binwidth of 30\n",
    "cars %>%\n",
    "  ggplot(aes(x = horsepwr)) +\n",
    "  geom_histogram(binwidth = 30) +\n",
    "  ggtitle(\"Distribution of horsepower: binwidth = 30\")\n",
    "\n",
    "# Create hist of horsepwr with binwidth of 60\n",
    "cars %>%\n",
    "  ggplot(aes(x = horsepwr)) +\n",
    "  geom_histogram(binwidth = 60) +\n",
    "  ggtitle(\"Distribution of horsepower: binwidth = 60\")\n"
   ]
  },
  {
   "cell_type": "markdown",
   "id": "250bbef5-61e3-4a77-9f43-483d47ef7a52",
   "metadata": {},
   "source": [
    "### Box Plot"
   ]
  },
  {
   "cell_type": "markdown",
   "id": "90415e0f-a9a6-4a2d-b4c9-c117a285cb54",
   "metadata": {},
   "source": [
    "**Side-by-side Box Plot**"
   ]
  },
  {
   "cell_type": "code",
   "execution_count": 20,
   "id": "3f156062-3013-48fa-9682-bbcbce34819d",
   "metadata": {},
   "outputs": [
    {
     "name": "stderr",
     "output_type": "stream",
     "text": [
      "Warning message:\n",
      "\"Removed 11 rows containing non-finite values (stat_boxplot).\""
     ]
    },
    {
     "data": {
      "image/png": "[encoded data removed]",
      "text/plain": [
       "plot without title"
      ]
     },
     "metadata": {},
     "output_type": "display_data"
    }
   ],
   "source": [
    "ggplot(common_cyl, aes(x = as.factor(ncyl), y = city_mpg)) +\n",
    "geom_boxplot()"
   ]
  },
  {
   "cell_type": "markdown",
   "id": "ba1de62e-cac5-4a28-bdee-16c54de1368a",
   "metadata": {},
   "source": [
    "**Box plot with filters**"
   ]
  },
  {
   "cell_type": "code",
   "execution_count": 21,
   "id": "c72787fa-8707-4fca-b289-ebb3055e7e3e",
   "metadata": {},
   "outputs": [
    {
     "data": {
      "image/png": "[encoded data removed]",
      "text/plain": [
       "plot without title"
      ]
     },
     "metadata": {},
     "output_type": "display_data"
    },
    {
     "data": {
      "image/png": "[encoded data removed]",
      "text/plain": [
       "plot without title"
      ]
     },
     "metadata": {},
     "output_type": "display_data"
    }
   ],
   "source": [
    "# Construct box plot of msrp\n",
    "cars %>%\n",
    "  ggplot(aes(x = 1, y = msrp)) +\n",
    "  geom_boxplot() +\n",
    "  ggtitle(\"Boxplot with no filters\")\n",
    "\n",
    "# Exclude outliers from data\n",
    "cars_no_out <- cars %>%\n",
    "  filter(msrp < 100000)\n",
    "\n",
    "# Construct box plot of msrp using the reduced dataset\n",
    "cars_no_out %>%\n",
    "  ggplot(aes(x = 1, y = msrp)) +\n",
    "  geom_boxplot() +\n",
    "  ggtitle(\"Boxplot with with filters applied\")"
   ]
  },
  {
   "cell_type": "code",
   "execution_count": 22,
   "id": "b4b5008f-6ab4-4930-b044-2388b754b4c6",
   "metadata": {},
   "outputs": [
    {
     "name": "stderr",
     "output_type": "stream",
     "text": [
      "Warning message:\n",
      "\"Removed 14 rows containing non-finite values (stat_boxplot).\"Warning message:\n",
      "\"Removed 14 rows containing non-finite values (stat_density).\""
     ]
    },
    {
     "data": {
      "image/png": "[encoded data removed]",
      "text/plain": [
       "plot without title"
      ]
     },
     "metadata": {},
     "output_type": "display_data"
    },
    {
     "name": "stderr",
     "output_type": "stream",
     "text": [
      "Warning message:\n",
      "\"Removed 28 rows containing non-finite values (stat_boxplot).\""
     ]
    },
    {
     "data": {
      "image/png": "[encoded data removed]",
      "text/plain": [
       "plot without title"
      ]
     },
     "metadata": {},
     "output_type": "display_data"
    },
    {
     "name": "stderr",
     "output_type": "stream",
     "text": [
      "Warning message:\n",
      "\"Removed 28 rows containing non-finite values (stat_density).\""
     ]
    },
    {
     "data": {
      "image/png": "[encoded data removed]",
      "text/plain": [
       "plot without title"
      ]
     },
     "metadata": {},
     "output_type": "display_data"
    },
    {
     "data": {
      "image/png": "[encoded data removed]",
      "text/plain": [
       "plot without title"
      ]
     },
     "metadata": {},
     "output_type": "display_data"
    }
   ],
   "source": [
    "# Create plot of city_mpg\n",
    "cars %>%\n",
    "  ggplot(aes(x = 1, y = city_mpg)) +\n",
    "  geom_boxplot()\n",
    "\n",
    "# Create plot of width\n",
    "cars %>% \n",
    "  ggplot(aes(x=city_mpg)) +\n",
    "  geom_density()\n",
    "\n",
    "\n",
    "# Create plot of city_mpg\n",
    "cars %>%\n",
    "  ggplot(aes(x = 1, y = width)) +\n",
    "  geom_boxplot()\n",
    "\n",
    "\n",
    "# Create plot of width\n",
    "cars %>% \n",
    "  ggplot(aes(x=width)) +\n",
    "  geom_density()"
   ]
  },
  {
   "cell_type": "markdown",
   "id": "80cc8e2a-145b-4bbd-89ed-a944ce6be35d",
   "metadata": {},
   "source": [
    "### Visualizing in Higher Dimensions"
   ]
  },
  {
   "cell_type": "markdown",
   "id": "75f41cb6-bc4f-4071-9464-a93cb61b2310",
   "metadata": {},
   "source": [
    "**Using facet Grid**"
   ]
  },
  {
   "cell_type": "code",
   "execution_count": 27,
   "id": "a3682157-5e8c-4078-8e91-23a61ba279a5",
   "metadata": {},
   "outputs": [
    {
     "data": {
      "text/plain": [
       "       \n",
       "        FALSE TRUE\n",
       "  FALSE   306   12\n",
       "  TRUE     98   12"
      ]
     },
     "metadata": {},
     "output_type": "display_data"
    },
    {
     "data": {
      "image/png": "[encoded data removed]",
      "text/plain": [
       "plot without title"
      ]
     },
     "metadata": {},
     "output_type": "display_data"
    }
   ],
   "source": [
    "# Facet 'msrp' using levels of 'pickup' and 'rear_wheel'\n",
    "# msrp vs pickup(yes) and rear_wheel(yes)\n",
    "# msrp vs pickup(yes) and rear_wheel(no)\n",
    "# msrp vs pickup(no) and rear_wheel(yes)\n",
    "# msrp vs pickup(no) and rear_wheel(no)\n",
    "\n",
    "# A combination of the 4 plots via facets\n",
    "ggplot(cars, aes(x = msrp)) +\n",
    "geom_density() +\n",
    "facet_grid(pickup ~ rear_wheel, labeller = label_both)\n",
    "\n",
    "# Number of cases that goes into each of these 4 plots\n",
    "table(cars$rear_wheel, cars$pickup)"
   ]
  },
  {
   "cell_type": "markdown",
   "id": "0f79faf5-1d25-4a20-8ac0-5ec46357f756",
   "metadata": {},
   "source": [
    "**Using Histograms**"
   ]
  },
  {
   "cell_type": "code",
   "execution_count": 28,
   "id": "b8cb8826-6e00-4e66-8cc2-e812edebfcff",
   "metadata": {},
   "outputs": [
    {
     "name": "stderr",
     "output_type": "stream",
     "text": [
      "`stat_bin()` using `bins = 30`. Pick better value with `binwidth`.\n",
      "Warning message:\n",
      "\"Removed 11 rows containing non-finite values (stat_bin).\""
     ]
    },
    {
     "data": {
      "image/png": "[encoded data removed]",
      "text/plain": [
       "plot without title"
      ]
     },
     "metadata": {},
     "output_type": "display_data"
    }
   ],
   "source": [
    "# Facet 'hists' using 'hwy mileage' and 'ncyl'\n",
    "common_cyl %>%\n",
    "  ggplot(aes(x = hwy_mpg)) +\n",
    "  geom_histogram() +\n",
    "  facet_grid(ncyl ~ suv) +\n",
    "  ggtitle(\"Association between hwy_mpg vs ncyl and hwy_mpg vs suv\")"
   ]
  },
  {
   "cell_type": "markdown",
   "id": "23313d21-ae39-4ecd-a502-0847e255b2fe",
   "metadata": {},
   "source": [
    "We can say across both SUVs and non-SUVs, mileage tends to decrease as the number of cylinders increases."
   ]
  },
  {
   "cell_type": "markdown",
   "id": "26dcf87b-8651-4e8a-a578-8b7e032392a7",
   "metadata": {},
   "source": [
    "# Numerical Summaries"
   ]
  },
  {
   "cell_type": "markdown",
   "id": "42c17d1c-288c-466e-8c07-98e118323c7f",
   "metadata": {},
   "source": [
    "**Common Distributions**"
   ]
  },
  {
   "attachments": {
    "b9d6168f-e5f7-4ff8-ab06-0f61ae699bef.png": {
     "image/png": "[encoded data removed]"
    }
   },
   "cell_type": "markdown",
   "id": "ce36ab3d-c5bd-4ae8-aa0c-3b96402cfb1f",
   "metadata": {},
   "source": [
    "![image.png](attachment:b9d6168f-e5f7-4ff8-ab06-0f61ae699bef.png)"
   ]
  },
  {
   "cell_type": "markdown",
   "id": "82659252-7c34-4d64-bb6a-37f8b6cccd88",
   "metadata": {},
   "source": [
    "## Measure of Center"
   ]
  },
  {
   "cell_type": "code",
   "execution_count": 23,
   "id": "a965406a-bd05-4731-9568-c1f557931833",
   "metadata": {},
   "outputs": [
    {
     "data": {
      "text/html": [
       "<ol class=list-inline>\n",
       "\t<li>29</li>\n",
       "\t<li>30</li>\n",
       "\t<li>32</li>\n",
       "\t<li>34</li>\n",
       "\t<li>36</li>\n",
       "\t<li>38</li>\n",
       "\t<li>40</li>\n",
       "\t<li>41</li>\n",
       "\t<li>42</li>\n",
       "\t<li>42</li>\n",
       "\t<li>42</li>\n",
       "</ol>\n"
      ],
      "text/latex": [
       "\\begin{enumerate*}\n",
       "\\item 29\n",
       "\\item 30\n",
       "\\item 32\n",
       "\\item 34\n",
       "\\item 36\n",
       "\\item 38\n",
       "\\item 40\n",
       "\\item 41\n",
       "\\item 42\n",
       "\\item 42\n",
       "\\item 42\n",
       "\\end{enumerate*}\n"
      ],
      "text/markdown": [
       "1. 29\n",
       "2. 30\n",
       "3. 32\n",
       "4. 34\n",
       "5. 36\n",
       "6. 38\n",
       "7. 40\n",
       "8. 41\n",
       "9. 42\n",
       "10. 42\n",
       "11. 42\n",
       "\n",
       "\n"
      ],
      "text/plain": [
       " [1] 29 30 32 34 36 38 40 41 42 42 42"
      ]
     },
     "metadata": {},
     "output_type": "display_data"
    }
   ],
   "source": [
    "# Using the first 11 counts\n",
    "# What is a typical value for these set of 11 numbers\n",
    "x <- head(round(life$lifeExp), 11)\n",
    "x"
   ]
  },
  {
   "cell_type": "markdown",
   "id": "3ca79107-7fa4-442b-8c7b-76ffd1ee4732",
   "metadata": {},
   "source": [
    "**Center: Mean**"
   ]
  },
  {
   "cell_type": "code",
   "execution_count": 24,
   "id": "85d7aa4f-ef51-47f4-807d-8d0d8d2906a2",
   "metadata": {},
   "outputs": [
    {
     "data": {
      "text/html": [
       "36.9090909090909"
      ],
      "text/latex": [
       "36.9090909090909"
      ],
      "text/markdown": [
       "36.9090909090909"
      ],
      "text/plain": [
       "[1] 36.90909"
      ]
     },
     "metadata": {},
     "output_type": "display_data"
    },
    {
     "data": {
      "text/html": [
       "36.9090909090909"
      ],
      "text/latex": [
       "36.9090909090909"
      ],
      "text/markdown": [
       "36.9090909090909"
      ],
      "text/plain": [
       "[1] 36.90909"
      ]
     },
     "metadata": {},
     "output_type": "display_data"
    }
   ],
   "source": [
    "# Finding a typical value for these set of 11 numbers\n",
    "sum(x)/11\n",
    "\n",
    "# Typical answer is the mean\n",
    "mean(x)"
   ]
  },
  {
   "cell_type": "markdown",
   "id": "f2a5cf37-8257-4b61-8e81-c9a49f12f54b",
   "metadata": {},
   "source": [
    "**Center: Median**"
   ]
  },
  {
   "cell_type": "code",
   "execution_count": 25,
   "id": "c70ce8b3-9673-4d2e-bfc4-a9acbe48b9ce",
   "metadata": {},
   "outputs": [
    {
     "data": {
      "text/html": [
       "<ol class=list-inline>\n",
       "\t<li>29</li>\n",
       "\t<li>30</li>\n",
       "\t<li>32</li>\n",
       "\t<li>34</li>\n",
       "\t<li>36</li>\n",
       "\t<li>38</li>\n",
       "\t<li>40</li>\n",
       "\t<li>41</li>\n",
       "\t<li>42</li>\n",
       "\t<li>42</li>\n",
       "\t<li>42</li>\n",
       "</ol>\n"
      ],
      "text/latex": [
       "\\begin{enumerate*}\n",
       "\\item 29\n",
       "\\item 30\n",
       "\\item 32\n",
       "\\item 34\n",
       "\\item 36\n",
       "\\item 38\n",
       "\\item 40\n",
       "\\item 41\n",
       "\\item 42\n",
       "\\item 42\n",
       "\\item 42\n",
       "\\end{enumerate*}\n"
      ],
      "text/markdown": [
       "1. 29\n",
       "2. 30\n",
       "3. 32\n",
       "4. 34\n",
       "5. 36\n",
       "6. 38\n",
       "7. 40\n",
       "8. 41\n",
       "9. 42\n",
       "10. 42\n",
       "11. 42\n",
       "\n",
       "\n"
      ],
      "text/plain": [
       " [1] 29 30 32 34 36 38 40 41 42 42 42"
      ]
     },
     "metadata": {},
     "output_type": "display_data"
    },
    {
     "data": {
      "text/html": [
       "38"
      ],
      "text/latex": [
       "38"
      ],
      "text/markdown": [
       "38"
      ],
      "text/plain": [
       "[1] 38"
      ]
     },
     "metadata": {},
     "output_type": "display_data"
    }
   ],
   "source": [
    "# Another measure of center is the median\n",
    "# Middle value in a sorted dataset\n",
    "sort(x)\n",
    "median(x)"
   ]
  },
  {
   "cell_type": "markdown",
   "id": "ae6a13be-8016-42ea-92dd-6df90d0c51cf",
   "metadata": {},
   "source": [
    "**Center: Mode**"
   ]
  },
  {
   "cell_type": "code",
   "execution_count": 27,
   "id": "f8647f13-981d-440c-8d5f-d7bf304ca0f0",
   "metadata": {},
   "outputs": [
    {
     "data": {
      "text/plain": [
       "x\n",
       "29 30 32 34 36 38 40 41 42 \n",
       " 1  1  1  1  1  1  1  1  3 "
      ]
     },
     "metadata": {},
     "output_type": "display_data"
    }
   ],
   "source": [
    "# A third measure of center is the mode\n",
    "# The most common observation in the dataset\n",
    "table(x)"
   ]
  },
  {
   "cell_type": "markdown",
   "id": "330853ae-2d65-4395-93b2-0cb9d51f49ec",
   "metadata": {},
   "source": [
    "When working with skewed data, the median is often the appropriate measure of center"
   ]
  },
  {
   "cell_type": "markdown",
   "id": "6c80223b-2324-415b-ac5a-d9ebb023570f",
   "metadata": {},
   "source": [
    "### Average Life expectancy: Grouped and Ungrouped"
   ]
  },
  {
   "cell_type": "code",
   "execution_count": 29,
   "id": "c3f8519d-7e40-4d9b-9e15-a3e68cf66923",
   "metadata": {},
   "outputs": [
    {
     "data": {
      "text/html": [
       "<table>\n",
       "<thead><tr><th scope=col>country</th><th scope=col>continent</th><th scope=col>year</th><th scope=col>lifeExp</th><th scope=col>pop</th><th scope=col>gdpPercap</th></tr></thead>\n",
       "<tbody>\n",
       "\t<tr><td>Afghanistan</td><td>Asia       </td><td>1952       </td><td>28.801     </td><td> 8425333   </td><td>779.4453   </td></tr>\n",
       "\t<tr><td>Afghanistan</td><td>Asia       </td><td>1957       </td><td>30.332     </td><td> 9240934   </td><td>820.8530   </td></tr>\n",
       "\t<tr><td>Afghanistan</td><td>Asia       </td><td>1962       </td><td>31.997     </td><td>10267083   </td><td>853.1007   </td></tr>\n",
       "\t<tr><td>Afghanistan</td><td>Asia       </td><td>1967       </td><td>34.020     </td><td>11537966   </td><td>836.1971   </td></tr>\n",
       "\t<tr><td>Afghanistan</td><td>Asia       </td><td>1972       </td><td>36.088     </td><td>13079460   </td><td>739.9811   </td></tr>\n",
       "\t<tr><td>Afghanistan</td><td>Asia       </td><td>1977       </td><td>38.438     </td><td>14880372   </td><td>786.1134   </td></tr>\n",
       "</tbody>\n",
       "</table>\n"
      ],
      "text/latex": [
       "\\begin{tabular}{r|llllll}\n",
       " country & continent & year & lifeExp & pop & gdpPercap\\\\\n",
       "\\hline\n",
       "\t Afghanistan & Asia        & 1952        & 28.801      &  8425333    & 779.4453   \\\\\n",
       "\t Afghanistan & Asia        & 1957        & 30.332      &  9240934    & 820.8530   \\\\\n",
       "\t Afghanistan & Asia        & 1962        & 31.997      & 10267083    & 853.1007   \\\\\n",
       "\t Afghanistan & Asia        & 1967        & 34.020      & 11537966    & 836.1971   \\\\\n",
       "\t Afghanistan & Asia        & 1972        & 36.088      & 13079460    & 739.9811   \\\\\n",
       "\t Afghanistan & Asia        & 1977        & 38.438      & 14880372    & 786.1134   \\\\\n",
       "\\end{tabular}\n"
      ],
      "text/markdown": [
       "\n",
       "| country | continent | year | lifeExp | pop | gdpPercap |\n",
       "|---|---|---|---|---|---|\n",
       "| Afghanistan | Asia        | 1952        | 28.801      |  8425333    | 779.4453    |\n",
       "| Afghanistan | Asia        | 1957        | 30.332      |  9240934    | 820.8530    |\n",
       "| Afghanistan | Asia        | 1962        | 31.997      | 10267083    | 853.1007    |\n",
       "| Afghanistan | Asia        | 1967        | 34.020      | 11537966    | 836.1971    |\n",
       "| Afghanistan | Asia        | 1972        | 36.088      | 13079460    | 739.9811    |\n",
       "| Afghanistan | Asia        | 1977        | 38.438      | 14880372    | 786.1134    |\n",
       "\n"
      ],
      "text/plain": [
       "  country     continent year lifeExp pop      gdpPercap\n",
       "1 Afghanistan Asia      1952 28.801   8425333 779.4453 \n",
       "2 Afghanistan Asia      1957 30.332   9240934 820.8530 \n",
       "3 Afghanistan Asia      1962 31.997  10267083 853.1007 \n",
       "4 Afghanistan Asia      1967 34.020  11537966 836.1971 \n",
       "5 Afghanistan Asia      1972 36.088  13079460 739.9811 \n",
       "6 Afghanistan Asia      1977 38.438  14880372 786.1134 "
      ]
     },
     "metadata": {},
     "output_type": "display_data"
    }
   ],
   "source": [
    "# Preview the gapminder dataset\n",
    "head(gapminder)"
   ]
  },
  {
   "cell_type": "code",
   "execution_count": 30,
   "id": "a26013f0-ea99-46a5-b987-b3ece422fc8b",
   "metadata": {},
   "outputs": [
    {
     "data": {
      "text/html": [
       "<table>\n",
       "<thead><tr><th scope=col>country</th><th scope=col>continent</th><th scope=col>year</th><th scope=col>lifeExp</th><th scope=col>pop</th><th scope=col>gdpPercap</th></tr></thead>\n",
       "<tbody>\n",
       "\t<tr><td>Afghanistan</td><td>Asia       </td><td>2007       </td><td>43.828     </td><td>31889923   </td><td>  974.5803 </td></tr>\n",
       "\t<tr><td>Albania    </td><td>Europe     </td><td>2007       </td><td>76.423     </td><td> 3600523   </td><td> 5937.0295 </td></tr>\n",
       "\t<tr><td>Algeria    </td><td>Africa     </td><td>2007       </td><td>72.301     </td><td>33333216   </td><td> 6223.3675 </td></tr>\n",
       "\t<tr><td>Angola     </td><td>Africa     </td><td>2007       </td><td>42.731     </td><td>12420476   </td><td> 4797.2313 </td></tr>\n",
       "\t<tr><td>Argentina  </td><td>Americas   </td><td>2007       </td><td>75.320     </td><td>40301927   </td><td>12779.3796 </td></tr>\n",
       "\t<tr><td>Australia  </td><td>Oceania    </td><td>2007       </td><td>81.235     </td><td>20434176   </td><td>34435.3674 </td></tr>\n",
       "</tbody>\n",
       "</table>\n"
      ],
      "text/latex": [
       "\\begin{tabular}{r|llllll}\n",
       " country & continent & year & lifeExp & pop & gdpPercap\\\\\n",
       "\\hline\n",
       "\t Afghanistan & Asia        & 2007        & 43.828      & 31889923    &   974.5803 \\\\\n",
       "\t Albania     & Europe      & 2007        & 76.423      &  3600523    &  5937.0295 \\\\\n",
       "\t Algeria     & Africa      & 2007        & 72.301      & 33333216    &  6223.3675 \\\\\n",
       "\t Angola      & Africa      & 2007        & 42.731      & 12420476    &  4797.2313 \\\\\n",
       "\t Argentina   & Americas    & 2007        & 75.320      & 40301927    & 12779.3796 \\\\\n",
       "\t Australia   & Oceania     & 2007        & 81.235      & 20434176    & 34435.3674 \\\\\n",
       "\\end{tabular}\n"
      ],
      "text/markdown": [
       "\n",
       "| country | continent | year | lifeExp | pop | gdpPercap |\n",
       "|---|---|---|---|---|---|\n",
       "| Afghanistan | Asia        | 2007        | 43.828      | 31889923    |   974.5803  |\n",
       "| Albania     | Europe      | 2007        | 76.423      |  3600523    |  5937.0295  |\n",
       "| Algeria     | Africa      | 2007        | 72.301      | 33333216    |  6223.3675  |\n",
       "| Angola      | Africa      | 2007        | 42.731      | 12420476    |  4797.2313  |\n",
       "| Argentina   | Americas    | 2007        | 75.320      | 40301927    | 12779.3796  |\n",
       "| Australia   | Oceania     | 2007        | 81.235      | 20434176    | 34435.3674  |\n",
       "\n"
      ],
      "text/plain": [
       "  country     continent year lifeExp pop      gdpPercap \n",
       "1 Afghanistan Asia      2007 43.828  31889923   974.5803\n",
       "2 Albania     Europe    2007 76.423   3600523  5937.0295\n",
       "3 Algeria     Africa    2007 72.301  33333216  6223.3675\n",
       "4 Angola      Africa    2007 42.731  12420476  4797.2313\n",
       "5 Argentina   Americas  2007 75.320  40301927 12779.3796\n",
       "6 Australia   Oceania   2007 81.235  20434176 34435.3674"
      ]
     },
     "metadata": {},
     "output_type": "display_data"
    }
   ],
   "source": [
    "# Create dataset of 2007 data\n",
    "gap2007 <- filter(gapminder, year==2007)\n",
    "head(gap2007)"
   ]
  },
  {
   "cell_type": "markdown",
   "id": "b81c394c-4de9-440b-ac07-8b368844baa1",
   "metadata": {},
   "source": [
    "**Computing ungrouped mean**"
   ]
  },
  {
   "cell_type": "code",
   "execution_count": 33,
   "id": "b32bd206-d2cc-4db0-b3e7-775adcc0327e",
   "metadata": {},
   "outputs": [
    {
     "data": {
      "text/html": [
       "<table>\n",
       "<thead><tr><th scope=col>mean(lifeExp)</th><th scope=col>median(lifeExp)</th></tr></thead>\n",
       "<tbody>\n",
       "\t<tr><td>67.00742</td><td>71.9355 </td></tr>\n",
       "</tbody>\n",
       "</table>\n"
      ],
      "text/latex": [
       "\\begin{tabular}{r|ll}\n",
       " mean(lifeExp) & median(lifeExp)\\\\\n",
       "\\hline\n",
       "\t 67.00742 & 71.9355 \\\\\n",
       "\\end{tabular}\n"
      ],
      "text/markdown": [
       "\n",
       "| mean(lifeExp) | median(lifeExp) |\n",
       "|---|---|\n",
       "| 67.00742 | 71.9355  |\n",
       "\n"
      ],
      "text/plain": [
       "  mean(lifeExp) median(lifeExp)\n",
       "1 67.00742      71.9355        "
      ]
     },
     "metadata": {},
     "output_type": "display_data"
    }
   ],
   "source": [
    "# Compute mean and median lifeExp without grouping\n",
    "gap2007 %>%\n",
    "  summarize(mean(lifeExp), median(lifeExp))"
   ]
  },
  {
   "cell_type": "markdown",
   "id": "14ea8e97-bacc-43db-aa1b-b882e51f867c",
   "metadata": {},
   "source": [
    "**Computing grouped Mean**"
   ]
  },
  {
   "cell_type": "code",
   "execution_count": 31,
   "id": "24402236-a793-436a-9509-d8bd9bc2f606",
   "metadata": {},
   "outputs": [
    {
     "data": {
      "text/html": [
       "<table>\n",
       "<thead><tr><th scope=col>continent</th><th scope=col>mean(lifeExp)</th><th scope=col>median(lifeExp)</th></tr></thead>\n",
       "<tbody>\n",
       "\t<tr><td>Africa  </td><td>54.80604</td><td>52.9265 </td></tr>\n",
       "\t<tr><td>Americas</td><td>73.60812</td><td>72.8990 </td></tr>\n",
       "\t<tr><td>Asia    </td><td>70.72848</td><td>72.3960 </td></tr>\n",
       "\t<tr><td>Europe  </td><td>77.64860</td><td>78.6085 </td></tr>\n",
       "\t<tr><td>Oceania </td><td>80.71950</td><td>80.7195 </td></tr>\n",
       "</tbody>\n",
       "</table>\n"
      ],
      "text/latex": [
       "\\begin{tabular}{r|lll}\n",
       " continent & mean(lifeExp) & median(lifeExp)\\\\\n",
       "\\hline\n",
       "\t Africa   & 54.80604 & 52.9265 \\\\\n",
       "\t Americas & 73.60812 & 72.8990 \\\\\n",
       "\t Asia     & 70.72848 & 72.3960 \\\\\n",
       "\t Europe   & 77.64860 & 78.6085 \\\\\n",
       "\t Oceania  & 80.71950 & 80.7195 \\\\\n",
       "\\end{tabular}\n"
      ],
      "text/markdown": [
       "\n",
       "| continent | mean(lifeExp) | median(lifeExp) |\n",
       "|---|---|---|\n",
       "| Africa   | 54.80604 | 52.9265  |\n",
       "| Americas | 73.60812 | 72.8990  |\n",
       "| Asia     | 70.72848 | 72.3960  |\n",
       "| Europe   | 77.64860 | 78.6085  |\n",
       "| Oceania  | 80.71950 | 80.7195  |\n",
       "\n"
      ],
      "text/plain": [
       "  continent mean(lifeExp) median(lifeExp)\n",
       "1 Africa    54.80604      52.9265        \n",
       "2 Americas  73.60812      72.8990        \n",
       "3 Asia      70.72848      72.3960        \n",
       "4 Europe    77.64860      78.6085        \n",
       "5 Oceania   80.71950      80.7195        "
      ]
     },
     "metadata": {},
     "output_type": "display_data"
    }
   ],
   "source": [
    "# Compute groupwise mean and median lifeExp with groups by continent\n",
    "gap2007 %>%\n",
    "  group_by(continent) %>%\n",
    "  summarize(mean(lifeExp), median(lifeExp))"
   ]
  },
  {
   "cell_type": "code",
   "execution_count": 32,
   "id": "9986d8fb-bce4-40e0-be11-1a2b7ca52265",
   "metadata": {},
   "outputs": [
    {
     "data": {
      "image/png": "[encoded data removed]",
      "text/plain": [
       "plot without title"
      ]
     },
     "metadata": {},
     "output_type": "display_data"
    }
   ],
   "source": [
    "# Generate box plots of lifeExp for each continent\n",
    "gap2007 %>%\n",
    "  ggplot(aes(x = continent, y = lifeExp)) +\n",
    "  geom_boxplot()"
   ]
  },
  {
   "cell_type": "markdown",
   "id": "89228d3c-b882-4ca3-88aa-4e45df23b304",
   "metadata": {},
   "source": [
    "## Measure of spread: Variability"
   ]
  },
  {
   "cell_type": "markdown",
   "id": "7573ac1a-66ba-4ef7-9534-07ac41d5ad54",
   "metadata": {},
   "source": [
    "### From basic principles: Summarizing the variability we see in a dataset\n",
    "- How the observations differs from the center (mean)"
   ]
  },
  {
   "cell_type": "code",
   "execution_count": 50,
   "id": "adc23458-cd98-4842-98f6-26b0186fe4b5",
   "metadata": {},
   "outputs": [
    {
     "data": {
      "text/html": [
       "<ol class=list-inline>\n",
       "\t<li>29</li>\n",
       "\t<li>30</li>\n",
       "\t<li>32</li>\n",
       "\t<li>34</li>\n",
       "\t<li>36</li>\n",
       "\t<li>38</li>\n",
       "\t<li>40</li>\n",
       "\t<li>41</li>\n",
       "\t<li>42</li>\n",
       "\t<li>42</li>\n",
       "\t<li>42</li>\n",
       "</ol>\n"
      ],
      "text/latex": [
       "\\begin{enumerate*}\n",
       "\\item 29\n",
       "\\item 30\n",
       "\\item 32\n",
       "\\item 34\n",
       "\\item 36\n",
       "\\item 38\n",
       "\\item 40\n",
       "\\item 41\n",
       "\\item 42\n",
       "\\item 42\n",
       "\\item 42\n",
       "\\end{enumerate*}\n"
      ],
      "text/markdown": [
       "1. 29\n",
       "2. 30\n",
       "3. 32\n",
       "4. 34\n",
       "5. 36\n",
       "6. 38\n",
       "7. 40\n",
       "8. 41\n",
       "9. 42\n",
       "10. 42\n",
       "11. 42\n",
       "\n",
       "\n"
      ],
      "text/plain": [
       " [1] 29 30 32 34 36 38 40 41 42 42 42"
      ]
     },
     "metadata": {},
     "output_type": "display_data"
    },
    {
     "data": {
      "text/html": [
       "36.9090909090909"
      ],
      "text/latex": [
       "36.9090909090909"
      ],
      "text/markdown": [
       "36.9090909090909"
      ],
      "text/plain": [
       "[1] 36.90909"
      ]
     },
     "metadata": {},
     "output_type": "display_data"
    }
   ],
   "source": [
    "# The observations\n",
    "x\n",
    "\n",
    "# Computing for the mean\n",
    "mean(x)"
   ]
  },
  {
   "cell_type": "code",
   "execution_count": 35,
   "id": "5fb67234-085b-46c7-abf0-ea26d98e7399",
   "metadata": {},
   "outputs": [
    {
     "data": {
      "text/html": [
       "<ol class=list-inline>\n",
       "\t<li>-7.90909090909091</li>\n",
       "\t<li>-6.90909090909091</li>\n",
       "\t<li>-4.90909090909091</li>\n",
       "\t<li>-2.90909090909091</li>\n",
       "\t<li>-0.909090909090907</li>\n",
       "\t<li>1.09090909090909</li>\n",
       "\t<li>3.09090909090909</li>\n",
       "\t<li>4.09090909090909</li>\n",
       "\t<li>5.09090909090909</li>\n",
       "\t<li>5.09090909090909</li>\n",
       "\t<li>5.09090909090909</li>\n",
       "</ol>\n"
      ],
      "text/latex": [
       "\\begin{enumerate*}\n",
       "\\item -7.90909090909091\n",
       "\\item -6.90909090909091\n",
       "\\item -4.90909090909091\n",
       "\\item -2.90909090909091\n",
       "\\item -0.909090909090907\n",
       "\\item 1.09090909090909\n",
       "\\item 3.09090909090909\n",
       "\\item 4.09090909090909\n",
       "\\item 5.09090909090909\n",
       "\\item 5.09090909090909\n",
       "\\item 5.09090909090909\n",
       "\\end{enumerate*}\n"
      ],
      "text/markdown": [
       "1. -7.90909090909091\n",
       "2. -6.90909090909091\n",
       "3. -4.90909090909091\n",
       "4. -2.90909090909091\n",
       "5. -0.909090909090907\n",
       "6. 1.09090909090909\n",
       "7. 3.09090909090909\n",
       "8. 4.09090909090909\n",
       "9. 5.09090909090909\n",
       "10. 5.09090909090909\n",
       "11. 5.09090909090909\n",
       "\n",
       "\n"
      ],
      "text/plain": [
       " [1] -7.9090909 -6.9090909 -4.9090909 -2.9090909 -0.9090909  1.0909091\n",
       " [7]  3.0909091  4.0909091  5.0909091  5.0909091  5.0909091"
      ]
     },
     "metadata": {},
     "output_type": "display_data"
    }
   ],
   "source": [
    "# Distance from the mean\n",
    "x - mean(x)"
   ]
  },
  {
   "cell_type": "code",
   "execution_count": 36,
   "id": "3562b01e-4e4f-42b4-9949-a1063063652c",
   "metadata": {},
   "outputs": [
    {
     "data": {
      "text/html": [
       "0.000000000000028421709430404"
      ],
      "text/latex": [
       "0.000000000000028421709430404"
      ],
      "text/markdown": [
       "0.000000000000028421709430404"
      ],
      "text/plain": [
       "[1] 0.00000000000002842171"
      ]
     },
     "metadata": {},
     "output_type": "display_data"
    }
   ],
   "source": [
    "# We need a single measure of variability\n",
    "# Sum the differences\n",
    "sum(x - mean(x))"
   ]
  },
  {
   "cell_type": "code",
   "execution_count": 51,
   "id": "f503394c-f9eb-422f-b421-427bd3024785",
   "metadata": {},
   "outputs": [
    {
     "data": {
      "text/html": [
       "248.909090909091"
      ],
      "text/latex": [
       "248.909090909091"
      ],
      "text/markdown": [
       "248.909090909091"
      ],
      "text/plain": [
       "[1] 248.9091"
      ]
     },
     "metadata": {},
     "output_type": "display_data"
    }
   ],
   "source": [
    "# Squared the differences to get rid of the negatives\n",
    "sum((x - mean(x))^2)"
   ]
  },
  {
   "cell_type": "code",
   "execution_count": 38,
   "id": "2f6f279d-ba51-4beb-8b5a-0dd1c396fa35",
   "metadata": {},
   "outputs": [
    {
     "data": {
      "text/html": [
       "22.6280991735537"
      ],
      "text/latex": [
       "22.6280991735537"
      ],
      "text/markdown": [
       "22.6280991735537"
      ],
      "text/plain": [
       "[1] 22.6281"
      ]
     },
     "metadata": {},
     "output_type": "display_data"
    }
   ],
   "source": [
    "# Dividing through by n\n",
    "n <- 11\n",
    "sum((x - mean(x))^2)/n"
   ]
  },
  {
   "cell_type": "code",
   "execution_count": 39,
   "id": "cd9d4ead-395f-41b6-8f2c-73799b395b94",
   "metadata": {},
   "outputs": [
    {
     "data": {
      "text/html": [
       "24.8909090909091"
      ],
      "text/latex": [
       "24.8909090909091"
      ],
      "text/markdown": [
       "24.8909090909091"
      ],
      "text/plain": [
       "[1] 24.89091"
      ]
     },
     "metadata": {},
     "output_type": "display_data"
    }
   ],
   "source": [
    "# obtaining the Sample variance from first principle\n",
    "# Useful measure for the spread of  distribution\n",
    "sum((x - mean(x))^2)/(n - 1)"
   ]
  },
  {
   "cell_type": "markdown",
   "id": "b95f2944-d357-4193-a428-6af6663d09b3",
   "metadata": {},
   "source": [
    "**Variance**"
   ]
  },
  {
   "cell_type": "code",
   "execution_count": 40,
   "id": "79774bc8-2396-4548-a3ce-779b4802c789",
   "metadata": {},
   "outputs": [
    {
     "data": {
      "text/html": [
       "24.8909090909091"
      ],
      "text/latex": [
       "24.8909090909091"
      ],
      "text/markdown": [
       "24.8909090909091"
      ],
      "text/plain": [
       "[1] 24.89091"
      ]
     },
     "metadata": {},
     "output_type": "display_data"
    }
   ],
   "source": [
    "# obtaining the sample variance programmatically\n",
    "# Variance is in squared units \n",
    "# 24.891 squared years\n",
    "var(x)"
   ]
  },
  {
   "cell_type": "markdown",
   "id": "c0ed2d14-f011-41ea-bf89-5410be20c7b3",
   "metadata": {},
   "source": [
    "**Standard Deviation**"
   ]
  },
  {
   "cell_type": "code",
   "execution_count": 52,
   "id": "cfd9bcf3-fd74-4245-9688-bd65fc380fd9",
   "metadata": {},
   "outputs": [
    {
     "data": {
      "text/html": [
       "4.98907898222799"
      ],
      "text/latex": [
       "4.98907898222799"
      ],
      "text/markdown": [
       "4.98907898222799"
      ],
      "text/plain": [
       "[1] 4.989079"
      ]
     },
     "metadata": {},
     "output_type": "display_data"
    }
   ],
   "source": [
    "# sample standard deviation\n",
    "# Standard deviation is in the same unit as that of the data\n",
    "# Standard deviation of the expected life is 4.9891 years\n",
    "sd(x) "
   ]
  },
  {
   "cell_type": "code",
   "execution_count": 45,
   "id": "3769db03-667c-419d-aa12-1d338880fc1d",
   "metadata": {},
   "outputs": [
    {
     "data": {
      "text/plain": [
       "   Min. 1st Qu.  Median    Mean 3rd Qu.    Max. \n",
       "  29.00   33.00   38.00   36.91   41.50   42.00 "
      ]
     },
     "metadata": {},
     "output_type": "display_data"
    }
   ],
   "source": [
    "# Obtaining summary statistics of our data\n",
    "summary(x)"
   ]
  },
  {
   "cell_type": "code",
   "execution_count": 68,
   "id": "adc51b64-11ec-4ecc-b91b-322f758d65f4",
   "metadata": {},
   "outputs": [
    {
     "data": {
      "text/html": [
       "8.5"
      ],
      "text/latex": [
       "8.5"
      ],
      "text/markdown": [
       "8.5"
      ],
      "text/plain": [
       "[1] 8.5"
      ]
     },
     "metadata": {},
     "output_type": "display_data"
    }
   ],
   "source": [
    "# Interquartile range\n",
    "# 3rd qua - 1st qua\n",
    "IQR(x) "
   ]
  },
  {
   "cell_type": "code",
   "execution_count": 47,
   "id": "a7360cdd-65c8-4aa4-9ca7-f266953dd864",
   "metadata": {},
   "outputs": [
    {
     "data": {
      "text/html": [
       "13"
      ],
      "text/latex": [
       "13"
      ],
      "text/markdown": [
       "13"
      ],
      "text/plain": [
       "[1] 13"
      ]
     },
     "metadata": {},
     "output_type": "display_data"
    }
   ],
   "source": [
    "# Range\n",
    "# Max value - min value\n",
    "diff(range(x)) "
   ]
  },
  {
   "cell_type": "markdown",
   "id": "d1a9491c-78e5-40bd-830d-66d413258f18",
   "metadata": {},
   "source": [
    "**Using different set of values where there is a huge number**"
   ]
  },
  {
   "cell_type": "code",
   "execution_count": 61,
   "id": "8d46cb52-dd82-4926-b7d1-8c54005652aa",
   "metadata": {},
   "outputs": [
    {
     "data": {
      "text/html": [
       "<ol class=list-inline>\n",
       "\t<li>29</li>\n",
       "\t<li>30</li>\n",
       "\t<li>32</li>\n",
       "\t<li>34</li>\n",
       "\t<li>36</li>\n",
       "\t<li>38</li>\n",
       "\t<li>40</li>\n",
       "\t<li>41</li>\n",
       "\t<li>42</li>\n",
       "\t<li>42</li>\n",
       "\t<li>42</li>\n",
       "</ol>\n"
      ],
      "text/latex": [
       "\\begin{enumerate*}\n",
       "\\item 29\n",
       "\\item 30\n",
       "\\item 32\n",
       "\\item 34\n",
       "\\item 36\n",
       "\\item 38\n",
       "\\item 40\n",
       "\\item 41\n",
       "\\item 42\n",
       "\\item 42\n",
       "\\item 42\n",
       "\\end{enumerate*}\n"
      ],
      "text/markdown": [
       "1. 29\n",
       "2. 30\n",
       "3. 32\n",
       "4. 34\n",
       "5. 36\n",
       "6. 38\n",
       "7. 40\n",
       "8. 41\n",
       "9. 42\n",
       "10. 42\n",
       "11. 42\n",
       "\n",
       "\n"
      ],
      "text/plain": [
       " [1] 29 30 32 34 36 38 40 41 42 42 42"
      ]
     },
     "metadata": {},
     "output_type": "display_data"
    },
    {
     "data": {
      "text/html": [
       "<ol class=list-inline>\n",
       "\t<li>29</li>\n",
       "\t<li>55</li>\n",
       "\t<li>32</li>\n",
       "\t<li>34</li>\n",
       "\t<li>36</li>\n",
       "\t<li>38</li>\n",
       "\t<li>40</li>\n",
       "\t<li>41</li>\n",
       "\t<li>42</li>\n",
       "\t<li>42</li>\n",
       "\t<li>42</li>\n",
       "</ol>\n"
      ],
      "text/latex": [
       "\\begin{enumerate*}\n",
       "\\item 29\n",
       "\\item 55\n",
       "\\item 32\n",
       "\\item 34\n",
       "\\item 36\n",
       "\\item 38\n",
       "\\item 40\n",
       "\\item 41\n",
       "\\item 42\n",
       "\\item 42\n",
       "\\item 42\n",
       "\\end{enumerate*}\n"
      ],
      "text/markdown": [
       "1. 29\n",
       "2. 55\n",
       "3. 32\n",
       "4. 34\n",
       "5. 36\n",
       "6. 38\n",
       "7. 40\n",
       "8. 41\n",
       "9. 42\n",
       "10. 42\n",
       "11. 42\n",
       "\n",
       "\n"
      ],
      "text/plain": [
       " [1] 29 55 32 34 36 38 40 41 42 42 42"
      ]
     },
     "metadata": {},
     "output_type": "display_data"
    }
   ],
   "source": [
    "# Original data\n",
    "x\n",
    "\n",
    "# New set of data\n",
    "x_new = c(29,55,32,34,36,38,40,41,42,42,42)\n",
    "x_new"
   ]
  },
  {
   "cell_type": "code",
   "execution_count": 62,
   "id": "133397b8-bc1f-403b-975b-73e94a25daf4",
   "metadata": {},
   "outputs": [
    {
     "data": {
      "text/html": [
       "39.1818181818182"
      ],
      "text/latex": [
       "39.1818181818182"
      ],
      "text/markdown": [
       "39.1818181818182"
      ],
      "text/plain": [
       "[1] 39.18182"
      ]
     },
     "metadata": {},
     "output_type": "display_data"
    }
   ],
   "source": [
    "# Computing for the mean\n",
    "mean(x_new) # Was 36.9090909090909"
   ]
  },
  {
   "cell_type": "code",
   "execution_count": 63,
   "id": "7edb3984-1c82-47d3-bfe5-b11b75cbd614",
   "metadata": {},
   "outputs": [
    {
     "data": {
      "text/html": [
       "6.86757863905732"
      ],
      "text/latex": [
       "6.86757863905732"
      ],
      "text/markdown": [
       "6.86757863905732"
      ],
      "text/plain": [
       "[1] 6.867579"
      ]
     },
     "metadata": {},
     "output_type": "display_data"
    }
   ],
   "source": [
    "# sample standard deviation\n",
    "sd(x_new) # Was 4.98907898222799"
   ]
  },
  {
   "cell_type": "code",
   "execution_count": 64,
   "id": "240f041b-79f9-4b8b-94d8-523626d870ee",
   "metadata": {},
   "outputs": [
    {
     "data": {
      "text/html": [
       "47.1636363636364"
      ],
      "text/latex": [
       "47.1636363636364"
      ],
      "text/markdown": [
       "47.1636363636364"
      ],
      "text/plain": [
       "[1] 47.16364"
      ]
     },
     "metadata": {},
     "output_type": "display_data"
    }
   ],
   "source": [
    "# Variance is in squared units \n",
    "var(x_new) # Was 24.8909090909091"
   ]
  },
  {
   "cell_type": "code",
   "execution_count": 67,
   "id": "550053cf-40a7-4029-a1d2-61da13ff8a37",
   "metadata": {},
   "outputs": [
    {
     "data": {
      "text/plain": [
       "   Min. 1st Qu.  Median    Mean 3rd Qu.    Max. \n",
       "  29.00   35.00   40.00   39.18   42.00   55.00 "
      ]
     },
     "metadata": {},
     "output_type": "display_data"
    }
   ],
   "source": [
    "# Obtaining summary statistics of our data\n",
    "summary(x_new)"
   ]
  },
  {
   "cell_type": "code",
   "execution_count": 65,
   "id": "a0789b7a-dcd3-44a9-a692-432f51f6916c",
   "metadata": {},
   "outputs": [
    {
     "data": {
      "text/html": [
       "7"
      ],
      "text/latex": [
       "7"
      ],
      "text/markdown": [
       "7"
      ],
      "text/plain": [
       "[1] 7"
      ]
     },
     "metadata": {},
     "output_type": "display_data"
    }
   ],
   "source": [
    "# Computing for the IQR\n",
    "IQR(x_new) "
   ]
  },
  {
   "cell_type": "code",
   "execution_count": 66,
   "id": "fee9df5c-a010-4ac1-bd2b-a616bd8f2531",
   "metadata": {},
   "outputs": [
    {
     "data": {
      "text/html": [
       "26"
      ],
      "text/latex": [
       "26"
      ],
      "text/markdown": [
       "26"
      ],
      "text/plain": [
       "[1] 26"
      ]
     },
     "metadata": {},
     "output_type": "display_data"
    }
   ],
   "source": [
    "# Computing for the range\n",
    "diff(range(x_new)) # Was 13"
   ]
  },
  {
   "cell_type": "markdown",
   "id": "cbc57670-a009-436d-af8c-bda2c081b635",
   "metadata": {},
   "source": [
    "### Computing measures of spread from the gapminder data"
   ]
  },
  {
   "cell_type": "markdown",
   "id": "d0a60b57-eb9f-46ac-bfe9-20766488d922",
   "metadata": {},
   "source": [
    "**Computing without groups**"
   ]
  },
  {
   "cell_type": "code",
   "execution_count": 71,
   "id": "2d2c46e8-c49c-40f9-aa74-8fedb96d94a2",
   "metadata": {},
   "outputs": [
    {
     "data": {
      "text/html": [
       "<table>\n",
       "<thead><tr><th scope=col>sd(lifeExp)</th><th scope=col>IQR(lifeExp)</th><th scope=col>n()</th></tr></thead>\n",
       "<tbody>\n",
       "\t<tr><td>12.07302</td><td>19.253  </td><td>142     </td></tr>\n",
       "</tbody>\n",
       "</table>\n"
      ],
      "text/latex": [
       "\\begin{tabular}{r|lll}\n",
       " sd(lifeExp) & IQR(lifeExp) & n()\\\\\n",
       "\\hline\n",
       "\t 12.07302 & 19.253   & 142     \\\\\n",
       "\\end{tabular}\n"
      ],
      "text/markdown": [
       "\n",
       "| sd(lifeExp) | IQR(lifeExp) | n() |\n",
       "|---|---|---|\n",
       "| 12.07302 | 19.253   | 142      |\n",
       "\n"
      ],
      "text/plain": [
       "  sd(lifeExp) IQR(lifeExp) n()\n",
       "1 12.07302    19.253       142"
      ]
     },
     "metadata": {},
     "output_type": "display_data"
    }
   ],
   "source": [
    "# Compute groupwise measures of spread\n",
    "gap2007 %>%\n",
    "  summarize(sd(lifeExp),\n",
    "            IQR(lifeExp),\n",
    "            n())"
   ]
  },
  {
   "cell_type": "markdown",
   "id": "d552a293-9f96-4624-9419-dc951e3f2b6d",
   "metadata": {},
   "source": [
    "**Computing group wise**"
   ]
  },
  {
   "cell_type": "code",
   "execution_count": 70,
   "id": "5458a70e-31a8-4ae1-8ed3-4dfd7d7e43a1",
   "metadata": {},
   "outputs": [
    {
     "data": {
      "text/html": [
       "<table>\n",
       "<thead><tr><th scope=col>continent</th><th scope=col>sd(lifeExp)</th><th scope=col>IQR(lifeExp)</th><th scope=col>n()</th></tr></thead>\n",
       "<tbody>\n",
       "\t<tr><td>Africa   </td><td>9.6307807</td><td>11.61025 </td><td>52       </td></tr>\n",
       "\t<tr><td>Americas </td><td>4.4409476</td><td> 4.63200 </td><td>25       </td></tr>\n",
       "\t<tr><td>Asia     </td><td>7.9637245</td><td>10.15200 </td><td>33       </td></tr>\n",
       "\t<tr><td>Europe   </td><td>2.9798127</td><td> 4.78250 </td><td>30       </td></tr>\n",
       "\t<tr><td>Oceania  </td><td>0.7290271</td><td> 0.51550 </td><td> 2       </td></tr>\n",
       "</tbody>\n",
       "</table>\n"
      ],
      "text/latex": [
       "\\begin{tabular}{r|llll}\n",
       " continent & sd(lifeExp) & IQR(lifeExp) & n()\\\\\n",
       "\\hline\n",
       "\t Africa    & 9.6307807 & 11.61025  & 52       \\\\\n",
       "\t Americas  & 4.4409476 &  4.63200  & 25       \\\\\n",
       "\t Asia      & 7.9637245 & 10.15200  & 33       \\\\\n",
       "\t Europe    & 2.9798127 &  4.78250  & 30       \\\\\n",
       "\t Oceania   & 0.7290271 &  0.51550  &  2       \\\\\n",
       "\\end{tabular}\n"
      ],
      "text/markdown": [
       "\n",
       "| continent | sd(lifeExp) | IQR(lifeExp) | n() |\n",
       "|---|---|---|---|\n",
       "| Africa    | 9.6307807 | 11.61025  | 52        |\n",
       "| Americas  | 4.4409476 |  4.63200  | 25        |\n",
       "| Asia      | 7.9637245 | 10.15200  | 33        |\n",
       "| Europe    | 2.9798127 |  4.78250  | 30        |\n",
       "| Oceania   | 0.7290271 |  0.51550  |  2        |\n",
       "\n"
      ],
      "text/plain": [
       "  continent sd(lifeExp) IQR(lifeExp) n()\n",
       "1 Africa    9.6307807   11.61025     52 \n",
       "2 Americas  4.4409476    4.63200     25 \n",
       "3 Asia      7.9637245   10.15200     33 \n",
       "4 Europe    2.9798127    4.78250     30 \n",
       "5 Oceania   0.7290271    0.51550      2 "
      ]
     },
     "metadata": {},
     "output_type": "display_data"
    }
   ],
   "source": [
    "# Compute groupwise measures of spread\n",
    "gap2007 %>%\n",
    "  group_by(continent) %>%\n",
    "  summarize(sd(lifeExp),\n",
    "            IQR(lifeExp),\n",
    "            n())"
   ]
  },
  {
   "cell_type": "code",
   "execution_count": 69,
   "id": "eb199d44-9b55-41d6-a2f3-f4d423860fd9",
   "metadata": {},
   "outputs": [
    {
     "data": {
      "text/html": [
       "<table>\n",
       "<thead><tr><th scope=col>continent</th><th scope=col>sd(lifeExp)</th><th scope=col>IQR(lifeExp)</th><th scope=col>n()</th></tr></thead>\n",
       "<tbody>\n",
       "\t<tr><td>Africa   </td><td>9.6307807</td><td>11.61025 </td><td>52       </td></tr>\n",
       "\t<tr><td>Americas </td><td>4.4409476</td><td> 4.63200 </td><td>25       </td></tr>\n",
       "\t<tr><td>Asia     </td><td>7.9637245</td><td>10.15200 </td><td>33       </td></tr>\n",
       "\t<tr><td>Europe   </td><td>2.9798127</td><td> 4.78250 </td><td>30       </td></tr>\n",
       "\t<tr><td>Oceania  </td><td>0.7290271</td><td> 0.51550 </td><td> 2       </td></tr>\n",
       "</tbody>\n",
       "</table>\n"
      ],
      "text/latex": [
       "\\begin{tabular}{r|llll}\n",
       " continent & sd(lifeExp) & IQR(lifeExp) & n()\\\\\n",
       "\\hline\n",
       "\t Africa    & 9.6307807 & 11.61025  & 52       \\\\\n",
       "\t Americas  & 4.4409476 &  4.63200  & 25       \\\\\n",
       "\t Asia      & 7.9637245 & 10.15200  & 33       \\\\\n",
       "\t Europe    & 2.9798127 &  4.78250  & 30       \\\\\n",
       "\t Oceania   & 0.7290271 &  0.51550  &  2       \\\\\n",
       "\\end{tabular}\n"
      ],
      "text/markdown": [
       "\n",
       "| continent | sd(lifeExp) | IQR(lifeExp) | n() |\n",
       "|---|---|---|---|\n",
       "| Africa    | 9.6307807 | 11.61025  | 52        |\n",
       "| Americas  | 4.4409476 |  4.63200  | 25        |\n",
       "| Asia      | 7.9637245 | 10.15200  | 33        |\n",
       "| Europe    | 2.9798127 |  4.78250  | 30        |\n",
       "| Oceania   | 0.7290271 |  0.51550  |  2        |\n",
       "\n"
      ],
      "text/plain": [
       "  continent sd(lifeExp) IQR(lifeExp) n()\n",
       "1 Africa    9.6307807   11.61025     52 \n",
       "2 Americas  4.4409476    4.63200     25 \n",
       "3 Asia      7.9637245   10.15200     33 \n",
       "4 Europe    2.9798127    4.78250     30 \n",
       "5 Oceania   0.7290271    0.51550      2 "
      ]
     },
     "metadata": {},
     "output_type": "display_data"
    },
    {
     "data": {
      "image/png": "[encoded data removed]",
      "text/plain": [
       "plot without title"
      ]
     },
     "metadata": {},
     "output_type": "display_data"
    }
   ],
   "source": [
    "# Generate overlaid density plots\n",
    "gap2007 %>%\n",
    "  ggplot(aes(x = lifeExp, fill = continent)) +\n",
    "  geom_density(alpha = 0.3)"
   ]
  },
  {
   "cell_type": "markdown",
   "id": "aed7d513-eb09-4607-b0bf-10300a791dc0",
   "metadata": {},
   "source": [
    "**Computing an appropriate measure of center and spread**"
   ]
  },
  {
   "cell_type": "code",
   "execution_count": 72,
   "id": "7f0955ca-961f-42f5-a665-2f5c365ac55f",
   "metadata": {},
   "outputs": [
    {
     "data": {
      "text/html": [
       "<table>\n",
       "<thead><tr><th scope=col>mean(lifeExp)</th><th scope=col>sd(lifeExp)</th></tr></thead>\n",
       "<tbody>\n",
       "\t<tr><td>73.60812</td><td>4.440948</td></tr>\n",
       "</tbody>\n",
       "</table>\n"
      ],
      "text/latex": [
       "\\begin{tabular}{r|ll}\n",
       " mean(lifeExp) & sd(lifeExp)\\\\\n",
       "\\hline\n",
       "\t 73.60812 & 4.440948\\\\\n",
       "\\end{tabular}\n"
      ],
      "text/markdown": [
       "\n",
       "| mean(lifeExp) | sd(lifeExp) |\n",
       "|---|---|\n",
       "| 73.60812 | 4.440948 |\n",
       "\n"
      ],
      "text/plain": [
       "  mean(lifeExp) sd(lifeExp)\n",
       "1 73.60812      4.440948   "
      ]
     },
     "metadata": {},
     "output_type": "display_data"
    }
   ],
   "source": [
    "# Compute stats for lifeExp in Americas\n",
    "gap2007 %>%\n",
    "  filter(continent == 'Americas' ) %>%\n",
    "  summarize(mean(lifeExp),\n",
    "            sd(lifeExp))"
   ]
  },
  {
   "cell_type": "code",
   "execution_count": 73,
   "id": "24ee6572-92a2-40c7-9b91-76560a7c1bfa",
   "metadata": {},
   "outputs": [
    {
     "data": {
      "text/html": [
       "<table>\n",
       "<thead><tr><th scope=col>median(pop)</th><th scope=col>IQR(pop)</th></tr></thead>\n",
       "<tbody>\n",
       "\t<tr><td>10517531</td><td>26702008</td></tr>\n",
       "</tbody>\n",
       "</table>\n"
      ],
      "text/latex": [
       "\\begin{tabular}{r|ll}\n",
       " median(pop) & IQR(pop)\\\\\n",
       "\\hline\n",
       "\t 10517531 & 26702008\\\\\n",
       "\\end{tabular}\n"
      ],
      "text/markdown": [
       "\n",
       "| median(pop) | IQR(pop) |\n",
       "|---|---|\n",
       "| 10517531 | 26702008 |\n",
       "\n"
      ],
      "text/plain": [
       "  median(pop) IQR(pop)\n",
       "1 10517531    26702008"
      ]
     },
     "metadata": {},
     "output_type": "display_data"
    }
   ],
   "source": [
    "# Compute stats for population\n",
    "gap2007 %>%\n",
    "  summarize(median(pop),\n",
    "            IQR(pop))"
   ]
  },
  {
   "cell_type": "markdown",
   "id": "310e7760-8395-477d-9ecb-942eb715eed7",
   "metadata": {},
   "source": [
    "## Measures of Modality: Shape and transformation"
   ]
  },
  {
   "cell_type": "markdown",
   "id": "fb01635e-47b9-40c4-956a-68abd4f645d0",
   "metadata": {},
   "source": [
    "**Shape of the income dataset**"
   ]
  },
  {
   "cell_type": "code",
   "execution_count": 75,
   "id": "d397280b-16b7-40ae-9a3d-e12236caeb5c",
   "metadata": {},
   "outputs": [
    {
     "data": {
      "image/png": "[encoded data removed]",
      "text/plain": [
       "plot without title"
      ]
     },
     "metadata": {},
     "output_type": "display_data"
    }
   ],
   "source": [
    "# Create density plot of old variable\n",
    "gap2007 %>%\n",
    "  ggplot(aes(x = pop)) +\n",
    "  geom_density()"
   ]
  },
  {
   "cell_type": "code",
   "execution_count": 76,
   "id": "0617b63e-5121-4a98-ba23-5acf3104bdd1",
   "metadata": {},
   "outputs": [
    {
     "data": {
      "image/png": "[encoded data removed]",
      "text/plain": [
       "plot without title"
      ]
     },
     "metadata": {},
     "output_type": "display_data"
    }
   ],
   "source": [
    "# Transform the skewed pop variable\n",
    "gap2007 <- gap2007 %>%\n",
    "  mutate(log_pop = log(pop))\n",
    "\n",
    "# Create density plot of new variable\n",
    "gap2007 %>%\n",
    "  ggplot(aes(x = log_pop)) +\n",
    "  geom_density()"
   ]
  },
  {
   "cell_type": "markdown",
   "id": "d6747925-97ff-44e0-a972-c38b89b794c4",
   "metadata": {},
   "source": [
    "## Handling Outliers\n",
    "- It is helpful to consider outliers separate from the rest of the data"
   ]
  },
  {
   "cell_type": "markdown",
   "id": "684f67d8-ae31-493d-8c32-328777780065",
   "metadata": {},
   "source": [
    "**Define outliers and add a column to the data to identify outliers**"
   ]
  },
  {
   "cell_type": "code",
   "execution_count": 81,
   "id": "ac852004-b473-4763-81e0-3e18e08dd73d",
   "metadata": {},
   "outputs": [
    {
     "data": {
      "text/html": [
       "<table>\n",
       "<thead><tr><th scope=col>country</th><th scope=col>continent</th><th scope=col>year</th><th scope=col>lifeExp</th><th scope=col>pop</th><th scope=col>gdpPercap</th><th scope=col>log_pop</th><th scope=col>is_outlier</th></tr></thead>\n",
       "<tbody>\n",
       "\t<tr><td>Afghanistan     </td><td>Asia            </td><td>2007            </td><td>43.828          </td><td>  31889923      </td><td>  974.5803      </td><td>17.27780        </td><td> TRUE           </td></tr>\n",
       "\t<tr><td>Bahrain         </td><td>Asia            </td><td>2007            </td><td>75.635          </td><td>    708573      </td><td>29796.0483      </td><td>13.47101        </td><td>FALSE           </td></tr>\n",
       "\t<tr><td>Bangladesh      </td><td>Asia            </td><td>2007            </td><td>64.062          </td><td> 150448339      </td><td> 1391.2538      </td><td>18.82913        </td><td>FALSE           </td></tr>\n",
       "\t<tr><td>Cambodia        </td><td>Asia            </td><td>2007            </td><td>59.723          </td><td>  14131858      </td><td> 1713.7787      </td><td>16.46394        </td><td>FALSE           </td></tr>\n",
       "\t<tr><td>China           </td><td>Asia            </td><td>2007            </td><td>72.961          </td><td>1318683096      </td><td> 4959.1149      </td><td>20.99990        </td><td>FALSE           </td></tr>\n",
       "\t<tr><td>Hong Kong, China</td><td>Asia            </td><td>2007            </td><td>82.208          </td><td>   6980412      </td><td>39724.9787      </td><td>15.75862        </td><td>FALSE           </td></tr>\n",
       "</tbody>\n",
       "</table>\n"
      ],
      "text/latex": [
       "\\begin{tabular}{r|llllllll}\n",
       " country & continent & year & lifeExp & pop & gdpPercap & log\\_pop & is\\_outlier\\\\\n",
       "\\hline\n",
       "\t Afghanistan      & Asia             & 2007             & 43.828           &   31889923       &   974.5803       & 17.27780         &  TRUE           \\\\\n",
       "\t Bahrain          & Asia             & 2007             & 75.635           &     708573       & 29796.0483       & 13.47101         & FALSE           \\\\\n",
       "\t Bangladesh       & Asia             & 2007             & 64.062           &  150448339       &  1391.2538       & 18.82913         & FALSE           \\\\\n",
       "\t Cambodia         & Asia             & 2007             & 59.723           &   14131858       &  1713.7787       & 16.46394         & FALSE           \\\\\n",
       "\t China            & Asia             & 2007             & 72.961           & 1318683096       &  4959.1149       & 20.99990         & FALSE           \\\\\n",
       "\t Hong Kong, China & Asia             & 2007             & 82.208           &    6980412       & 39724.9787       & 15.75862         & FALSE           \\\\\n",
       "\\end{tabular}\n"
      ],
      "text/markdown": [
       "\n",
       "| country | continent | year | lifeExp | pop | gdpPercap | log_pop | is_outlier |\n",
       "|---|---|---|---|---|---|---|---|\n",
       "| Afghanistan      | Asia             | 2007             | 43.828           |   31889923       |   974.5803       | 17.27780         |  TRUE            |\n",
       "| Bahrain          | Asia             | 2007             | 75.635           |     708573       | 29796.0483       | 13.47101         | FALSE            |\n",
       "| Bangladesh       | Asia             | 2007             | 64.062           |  150448339       |  1391.2538       | 18.82913         | FALSE            |\n",
       "| Cambodia         | Asia             | 2007             | 59.723           |   14131858       |  1713.7787       | 16.46394         | FALSE            |\n",
       "| China            | Asia             | 2007             | 72.961           | 1318683096       |  4959.1149       | 20.99990         | FALSE            |\n",
       "| Hong Kong, China | Asia             | 2007             | 82.208           |    6980412       | 39724.9787       | 15.75862         | FALSE            |\n",
       "\n"
      ],
      "text/plain": [
       "  country          continent year lifeExp pop        gdpPercap  log_pop \n",
       "1 Afghanistan      Asia      2007 43.828    31889923   974.5803 17.27780\n",
       "2 Bahrain          Asia      2007 75.635      708573 29796.0483 13.47101\n",
       "3 Bangladesh       Asia      2007 64.062   150448339  1391.2538 18.82913\n",
       "4 Cambodia         Asia      2007 59.723    14131858  1713.7787 16.46394\n",
       "5 China            Asia      2007 72.961  1318683096  4959.1149 20.99990\n",
       "6 Hong Kong, China Asia      2007 82.208     6980412 39724.9787 15.75862\n",
       "  is_outlier\n",
       "1  TRUE     \n",
       "2 FALSE     \n",
       "3 FALSE     \n",
       "4 FALSE     \n",
       "5 FALSE     \n",
       "6 FALSE     "
      ]
     },
     "metadata": {},
     "output_type": "display_data"
    }
   ],
   "source": [
    "# Filter for Asia, add column indicating whether or not outliers\n",
    "gap_asia <- gap2007 %>%\n",
    "  filter(continent == 'Asia') %>%\n",
    "  mutate(is_outlier = lifeExp<50)\n",
    "\n",
    "head(gap_asia)"
   ]
  },
  {
   "cell_type": "markdown",
   "id": "59d92357-83e0-4c3d-9d3e-ee154e9bf133",
   "metadata": {},
   "source": [
    "**Create a plot without the outliers**"
   ]
  },
  {
   "cell_type": "code",
   "execution_count": 82,
   "id": "4770fb2b-146c-4f6b-a69c-dcbb0ca5f86b",
   "metadata": {},
   "outputs": [
    {
     "data": {
      "image/png": "[encoded data removed]",
      "text/plain": [
       "plot without title"
      ]
     },
     "metadata": {},
     "output_type": "display_data"
    }
   ],
   "source": [
    "# Remove outliers, create box plot of lifeExp\n",
    "gap_asia %>%\n",
    "  filter(!is_outlier) %>%\n",
    "  ggplot(aes(x = 1, y = lifeExp)) +\n",
    "  geom_boxplot()"
   ]
  }
 ],
 "metadata": {
  "kernelspec": {
   "display_name": "R",
   "language": "R",
   "name": "ir"
  },
  "language_info": {
   "codemirror_mode": "r",
   "file_extension": ".r",
   "mimetype": "text/x-r-source",
   "name": "R",
   "pygments_lexer": "r",
   "version": "3.6.1"
  }
 },
 "nbformat": 4,
 "nbformat_minor": 5
}
